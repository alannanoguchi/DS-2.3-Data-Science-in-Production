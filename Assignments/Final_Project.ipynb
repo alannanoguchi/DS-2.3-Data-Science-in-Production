{
 "cells": [
  {
   "cell_type": "markdown",
   "metadata": {
    "slideshow": {
     "slide_type": "slide"
    }
   },
   "source": [
    "# Final Project:\n",
    "\n",
    "### Manipulate data-frame with Pyspark and train a ML/DL model all using Pyspark\n",
    "\n",
    "Purpose:\n",
    "- I will be performing analysis and training a Machine Learning model using Pyspark\n",
    "- I want to compare the difference with using Pyspark by using the same data I used in DS 2.1 for Body Mass Index\n",
    "\n",
    "\n",
    "<img src = 'https://library.neura.edu.au/wp-content/uploads/sites/3/2015/11/BMI.jpg' width='500' height='500'>"
   ]
  },
  {
   "cell_type": "markdown",
   "metadata": {
    "slideshow": {
     "slide_type": "slide"
    }
   },
   "source": [
    "## Recap from DS 2.1: \n",
    "- Used pandas to perform data analysis, matplotlib and seaborn for data visualization, scikit-learn for ML\n",
    "- Data included: Gender, Height, Weight, Index \n",
    "- I added a column for Category by converting the Index Number to represent the following: \n",
    "    - Extremely Weak, Weak, Normal, Overweight, Obesity, Extreme Obesty\n",
    "- I tested the model on myself which categorized me as: 'Unhealthy' but the score of 21.58 is in the 'Healthy' range\n",
    "\n",
    "\n",
    "### Index Types:\n",
    "    - 0 - Extremely Weak \n",
    "    - 1 - Weak \n",
    "    - 2 - Normal \n",
    "    - 3 - Overweight \n",
    "    - 4 - Obesity \n",
    "    - 5 - Extreme Obesity\n",
    "    \n",
    "   \n",
    "Index Types from the Dataset are compared to those defined by the World Health Organization (WHO)\n",
    "Table 1. Nutritional status\n",
    "\n",
    "### BMI\tNutritional status: \n",
    "\n",
    "**Underweight:** Below 18.5   \n",
    "\n",
    "**Normal weight:** 18.5–24.9   \n",
    "\n",
    "**Pre-obesity:** 25.0–29.9   \n",
    "\n",
    "**Obesity class I:** 30.0–34.9   \n",
    "\n",
    "**Obesity class II:** 35.0–39.9   \n",
    "\n",
    "**Obesity class III:** Above 40   "
   ]
  },
  {
   "cell_type": "markdown",
   "metadata": {
    "slideshow": {
     "slide_type": "slide"
    }
   },
   "source": [
    "### NOTE:\n",
    "* It is unclear from the data source which index type correlates to which type according to WHO. \n",
    "\n",
    "Source: http://www.euro.who.int/en/health-topics/disease-prevention/nutrition/a-healthy-lifestyle/body-mass-index-bmi\n",
    "\n",
    "### How to Calculate BMI:\n",
    "\n",
    "<img src=\"https://wikimedia.org/api/rest_v1/media/math/render/svg/ce191830a28c6f957ca8b1644bc2ac6b34b8545b\" />\n",
    "    \n",
    "For more information about BMI: https://en.wikipedia.org/wiki/Body_mass_index"
   ]
  },
  {
   "cell_type": "markdown",
   "metadata": {
    "slideshow": {
     "slide_type": "slide"
    }
   },
   "source": [
    "# Part 1: Using Pandas for Data Analysis"
   ]
  },
  {
   "cell_type": "code",
   "execution_count": 3,
   "metadata": {
    "slideshow": {
     "slide_type": "slide"
    }
   },
   "outputs": [
    {
     "data": {
      "text/html": [
       "<div>\n",
       "<style scoped>\n",
       "    .dataframe tbody tr th:only-of-type {\n",
       "        vertical-align: middle;\n",
       "    }\n",
       "\n",
       "    .dataframe tbody tr th {\n",
       "        vertical-align: top;\n",
       "    }\n",
       "\n",
       "    .dataframe thead th {\n",
       "        text-align: right;\n",
       "    }\n",
       "</style>\n",
       "<table border=\"1\" class=\"dataframe\">\n",
       "  <thead>\n",
       "    <tr style=\"text-align: right;\">\n",
       "      <th></th>\n",
       "      <th>Gender</th>\n",
       "      <th>Height</th>\n",
       "      <th>Weight</th>\n",
       "      <th>Index</th>\n",
       "    </tr>\n",
       "  </thead>\n",
       "  <tbody>\n",
       "    <tr>\n",
       "      <th>0</th>\n",
       "      <td>Male</td>\n",
       "      <td>174</td>\n",
       "      <td>96</td>\n",
       "      <td>4</td>\n",
       "    </tr>\n",
       "    <tr>\n",
       "      <th>1</th>\n",
       "      <td>Male</td>\n",
       "      <td>189</td>\n",
       "      <td>87</td>\n",
       "      <td>2</td>\n",
       "    </tr>\n",
       "    <tr>\n",
       "      <th>2</th>\n",
       "      <td>Female</td>\n",
       "      <td>185</td>\n",
       "      <td>110</td>\n",
       "      <td>4</td>\n",
       "    </tr>\n",
       "    <tr>\n",
       "      <th>3</th>\n",
       "      <td>Female</td>\n",
       "      <td>195</td>\n",
       "      <td>104</td>\n",
       "      <td>3</td>\n",
       "    </tr>\n",
       "    <tr>\n",
       "      <th>4</th>\n",
       "      <td>Male</td>\n",
       "      <td>149</td>\n",
       "      <td>61</td>\n",
       "      <td>3</td>\n",
       "    </tr>\n",
       "  </tbody>\n",
       "</table>\n",
       "</div>"
      ],
      "text/plain": [
       "   Gender  Height  Weight  Index\n",
       "0    Male     174      96      4\n",
       "1    Male     189      87      2\n",
       "2  Female     185     110      4\n",
       "3  Female     195     104      3\n",
       "4    Male     149      61      3"
      ]
     },
     "execution_count": 3,
     "metadata": {},
     "output_type": "execute_result"
    }
   ],
   "source": [
    "import pandas as pd\n",
    "\n",
    "df = pd.read_csv('Datasets/Gender_Height_Weight.csv')\n",
    "df.head()"
   ]
  },
  {
   "cell_type": "code",
   "execution_count": 4,
   "metadata": {
    "slideshow": {
     "slide_type": "slide"
    }
   },
   "outputs": [
    {
     "data": {
      "text/html": [
       "<div>\n",
       "<style scoped>\n",
       "    .dataframe tbody tr th:only-of-type {\n",
       "        vertical-align: middle;\n",
       "    }\n",
       "\n",
       "    .dataframe tbody tr th {\n",
       "        vertical-align: top;\n",
       "    }\n",
       "\n",
       "    .dataframe thead th {\n",
       "        text-align: right;\n",
       "    }\n",
       "</style>\n",
       "<table border=\"1\" class=\"dataframe\">\n",
       "  <thead>\n",
       "    <tr style=\"text-align: right;\">\n",
       "      <th></th>\n",
       "      <th>Gender</th>\n",
       "      <th>Height</th>\n",
       "      <th>Weight</th>\n",
       "      <th>Index</th>\n",
       "      <th>Category</th>\n",
       "    </tr>\n",
       "  </thead>\n",
       "  <tbody>\n",
       "    <tr>\n",
       "      <th>0</th>\n",
       "      <td>Male</td>\n",
       "      <td>174</td>\n",
       "      <td>96</td>\n",
       "      <td>4</td>\n",
       "      <td>Obesity</td>\n",
       "    </tr>\n",
       "    <tr>\n",
       "      <th>1</th>\n",
       "      <td>Male</td>\n",
       "      <td>189</td>\n",
       "      <td>87</td>\n",
       "      <td>2</td>\n",
       "      <td>Normal</td>\n",
       "    </tr>\n",
       "    <tr>\n",
       "      <th>2</th>\n",
       "      <td>Female</td>\n",
       "      <td>185</td>\n",
       "      <td>110</td>\n",
       "      <td>4</td>\n",
       "      <td>Obesity</td>\n",
       "    </tr>\n",
       "    <tr>\n",
       "      <th>3</th>\n",
       "      <td>Female</td>\n",
       "      <td>195</td>\n",
       "      <td>104</td>\n",
       "      <td>3</td>\n",
       "      <td>Overweight</td>\n",
       "    </tr>\n",
       "    <tr>\n",
       "      <th>4</th>\n",
       "      <td>Male</td>\n",
       "      <td>149</td>\n",
       "      <td>61</td>\n",
       "      <td>3</td>\n",
       "      <td>Overweight</td>\n",
       "    </tr>\n",
       "  </tbody>\n",
       "</table>\n",
       "</div>"
      ],
      "text/plain": [
       "   Gender  Height  Weight  Index    Category\n",
       "0    Male     174      96      4     Obesity\n",
       "1    Male     189      87      2      Normal\n",
       "2  Female     185     110      4     Obesity\n",
       "3  Female     195     104      3  Overweight\n",
       "4    Male     149      61      3  Overweight"
      ]
     },
     "execution_count": 4,
     "metadata": {},
     "output_type": "execute_result"
    }
   ],
   "source": [
    "# Convert the data from index column into category type\n",
    "\n",
    "def convert_index_to_category(df):\n",
    "    if df['Index'] == 0:\n",
    "        return 'Extremely Weak'\n",
    "    elif df['Index'] == 1:\n",
    "        return 'Weak'\n",
    "    elif df['Index'] == 2:\n",
    "        return 'Normal'\n",
    "    elif df['Index'] == 3:\n",
    "        return 'Overweight'\n",
    "    elif df['Index']== 4:\n",
    "        return 'Obesity'\n",
    "    elif df['Index'] == 5:\n",
    "        return 'Extreme Obesity'\n",
    "    \n",
    "df['Category'] = df.apply(convert_index_to_category, axis=1)  # Add a new column \n",
    "df.head()"
   ]
  },
  {
   "cell_type": "code",
   "execution_count": 5,
   "metadata": {
    "slideshow": {
     "slide_type": "slide"
    }
   },
   "outputs": [
    {
     "data": {
      "text/html": [
       "<div>\n",
       "<style scoped>\n",
       "    .dataframe tbody tr th:only-of-type {\n",
       "        vertical-align: middle;\n",
       "    }\n",
       "\n",
       "    .dataframe tbody tr th {\n",
       "        vertical-align: top;\n",
       "    }\n",
       "\n",
       "    .dataframe thead th {\n",
       "        text-align: right;\n",
       "    }\n",
       "</style>\n",
       "<table border=\"1\" class=\"dataframe\">\n",
       "  <thead>\n",
       "    <tr style=\"text-align: right;\">\n",
       "      <th></th>\n",
       "      <th>Gender</th>\n",
       "      <th>Height (cm)</th>\n",
       "      <th>Weight (kg)</th>\n",
       "      <th>Index</th>\n",
       "      <th>Category</th>\n",
       "    </tr>\n",
       "  </thead>\n",
       "  <tbody>\n",
       "    <tr>\n",
       "      <th>0</th>\n",
       "      <td>Male</td>\n",
       "      <td>174</td>\n",
       "      <td>96</td>\n",
       "      <td>4</td>\n",
       "      <td>Obesity</td>\n",
       "    </tr>\n",
       "    <tr>\n",
       "      <th>1</th>\n",
       "      <td>Male</td>\n",
       "      <td>189</td>\n",
       "      <td>87</td>\n",
       "      <td>2</td>\n",
       "      <td>Normal</td>\n",
       "    </tr>\n",
       "    <tr>\n",
       "      <th>2</th>\n",
       "      <td>Female</td>\n",
       "      <td>185</td>\n",
       "      <td>110</td>\n",
       "      <td>4</td>\n",
       "      <td>Obesity</td>\n",
       "    </tr>\n",
       "    <tr>\n",
       "      <th>3</th>\n",
       "      <td>Female</td>\n",
       "      <td>195</td>\n",
       "      <td>104</td>\n",
       "      <td>3</td>\n",
       "      <td>Overweight</td>\n",
       "    </tr>\n",
       "    <tr>\n",
       "      <th>4</th>\n",
       "      <td>Male</td>\n",
       "      <td>149</td>\n",
       "      <td>61</td>\n",
       "      <td>3</td>\n",
       "      <td>Overweight</td>\n",
       "    </tr>\n",
       "    <tr>\n",
       "      <th>...</th>\n",
       "      <td>...</td>\n",
       "      <td>...</td>\n",
       "      <td>...</td>\n",
       "      <td>...</td>\n",
       "      <td>...</td>\n",
       "    </tr>\n",
       "    <tr>\n",
       "      <th>495</th>\n",
       "      <td>Female</td>\n",
       "      <td>150</td>\n",
       "      <td>153</td>\n",
       "      <td>5</td>\n",
       "      <td>Extreme Obesity</td>\n",
       "    </tr>\n",
       "    <tr>\n",
       "      <th>496</th>\n",
       "      <td>Female</td>\n",
       "      <td>184</td>\n",
       "      <td>121</td>\n",
       "      <td>4</td>\n",
       "      <td>Obesity</td>\n",
       "    </tr>\n",
       "    <tr>\n",
       "      <th>497</th>\n",
       "      <td>Female</td>\n",
       "      <td>141</td>\n",
       "      <td>136</td>\n",
       "      <td>5</td>\n",
       "      <td>Extreme Obesity</td>\n",
       "    </tr>\n",
       "    <tr>\n",
       "      <th>498</th>\n",
       "      <td>Male</td>\n",
       "      <td>150</td>\n",
       "      <td>95</td>\n",
       "      <td>5</td>\n",
       "      <td>Extreme Obesity</td>\n",
       "    </tr>\n",
       "    <tr>\n",
       "      <th>499</th>\n",
       "      <td>Male</td>\n",
       "      <td>173</td>\n",
       "      <td>131</td>\n",
       "      <td>5</td>\n",
       "      <td>Extreme Obesity</td>\n",
       "    </tr>\n",
       "  </tbody>\n",
       "</table>\n",
       "<p>500 rows × 5 columns</p>\n",
       "</div>"
      ],
      "text/plain": [
       "     Gender  Height (cm)   Weight (kg)  Index         Category\n",
       "0      Male          174            96      4          Obesity\n",
       "1      Male          189            87      2           Normal\n",
       "2    Female          185           110      4          Obesity\n",
       "3    Female          195           104      3       Overweight\n",
       "4      Male          149            61      3       Overweight\n",
       "..      ...          ...           ...    ...              ...\n",
       "495  Female          150           153      5  Extreme Obesity\n",
       "496  Female          184           121      4          Obesity\n",
       "497  Female          141           136      5  Extreme Obesity\n",
       "498    Male          150            95      5  Extreme Obesity\n",
       "499    Male          173           131      5  Extreme Obesity\n",
       "\n",
       "[500 rows x 5 columns]"
      ]
     },
     "execution_count": 5,
     "metadata": {},
     "output_type": "execute_result"
    }
   ],
   "source": [
    "# Rename Columns\n",
    "\n",
    "df.rename(columns = {'Height' : 'Height (cm)', 'Weight' : ' Weight (kg)'})"
   ]
  },
  {
   "cell_type": "code",
   "execution_count": 6,
   "metadata": {
    "slideshow": {
     "slide_type": "slide"
    }
   },
   "outputs": [
    {
     "data": {
      "text/plain": [
       "<AxesSubplot:>"
      ]
     },
     "execution_count": 6,
     "metadata": {},
     "output_type": "execute_result"
    },
    {
     "data": {
      "image/png": "[encoded data removed]",
      "text/plain": [
       "<Figure size 432x288 with 1 Axes>"
      ]
     },
     "metadata": {
      "needs_background": "light"
     },
     "output_type": "display_data"
    }
   ],
   "source": [
    "# A visual of the values in each category\n",
    "\n",
    "df['Category'].value_counts().plot(kind='bar')"
   ]
  },
  {
   "cell_type": "code",
   "execution_count": 7,
   "metadata": {
    "slideshow": {
     "slide_type": "slide"
    }
   },
   "outputs": [
    {
     "data": {
      "text/plain": [
       "Extreme Obesity    198\n",
       "Obesity            130\n",
       "Normal              69\n",
       "Overweight          68\n",
       "Weak                22\n",
       "Extremely Weak      13\n",
       "Name: Category, dtype: int64"
      ]
     },
     "execution_count": 7,
     "metadata": {},
     "output_type": "execute_result"
    }
   ],
   "source": [
    "# The numbers for each category\n",
    "\n",
    "df['Category'].value_counts()"
   ]
  },
  {
   "cell_type": "code",
   "execution_count": 9,
   "metadata": {
    "slideshow": {
     "slide_type": "slide"
    }
   },
   "outputs": [
    {
     "name": "stderr",
     "output_type": "stream",
     "text": [
      "/Users/alannanoguchi/opt/miniconda3/lib/python3.8/site-packages/seaborn/regression.py:580: UserWarning: The `size` parameter has been renamed to `height`; please update your code.\n",
      "  warnings.warn(msg, UserWarning)\n"
     ]
    },
    {
     "data": {
      "text/plain": [
       "Text(0.5, 0.98, 'Height (cm) vs Weight (kg)')"
      ]
     },
     "execution_count": 9,
     "metadata": {},
     "output_type": "execute_result"
    },
    {
     "data": {
      "image/png": "[encoded data removed]",
      "text/plain": [
       "<Figure size 550.875x432 with 1 Axes>"
      ]
     },
     "metadata": {
      "needs_background": "light"
     },
     "output_type": "display_data"
    }
   ],
   "source": [
    "# Show plot of the different categories\n",
    "\n",
    "import seaborn as sns\n",
    "import matplotlib as plt\n",
    "\n",
    "\n",
    "sns.lmplot( x='Height', y='Weight', data=df, \n",
    "           fit_reg=False, \n",
    "           hue='Category', \n",
    "           legend=True, \n",
    "           palette='husl',\n",
    "           size = 6, \n",
    "           aspect = 1,\n",
    "          ).fig.suptitle(\"Height (cm) vs Weight (kg)\")"
   ]
  },
  {
   "cell_type": "code",
   "execution_count": 10,
   "metadata": {
    "slideshow": {
     "slide_type": "slide"
    }
   },
   "outputs": [
    {
     "data": {
      "text/html": [
       "<div>\n",
       "<style scoped>\n",
       "    .dataframe tbody tr th:only-of-type {\n",
       "        vertical-align: middle;\n",
       "    }\n",
       "\n",
       "    .dataframe tbody tr th {\n",
       "        vertical-align: top;\n",
       "    }\n",
       "\n",
       "    .dataframe thead th {\n",
       "        text-align: right;\n",
       "    }\n",
       "</style>\n",
       "<table border=\"1\" class=\"dataframe\">\n",
       "  <thead>\n",
       "    <tr style=\"text-align: right;\">\n",
       "      <th></th>\n",
       "      <th>Gender</th>\n",
       "      <th>Height</th>\n",
       "      <th>Weight</th>\n",
       "      <th>Index</th>\n",
       "      <th>Category</th>\n",
       "      <th>Gender Number</th>\n",
       "    </tr>\n",
       "  </thead>\n",
       "  <tbody>\n",
       "    <tr>\n",
       "      <th>0</th>\n",
       "      <td>Male</td>\n",
       "      <td>174</td>\n",
       "      <td>96</td>\n",
       "      <td>4</td>\n",
       "      <td>Obesity</td>\n",
       "      <td>1</td>\n",
       "    </tr>\n",
       "    <tr>\n",
       "      <th>1</th>\n",
       "      <td>Male</td>\n",
       "      <td>189</td>\n",
       "      <td>87</td>\n",
       "      <td>2</td>\n",
       "      <td>Normal</td>\n",
       "      <td>1</td>\n",
       "    </tr>\n",
       "    <tr>\n",
       "      <th>2</th>\n",
       "      <td>Female</td>\n",
       "      <td>185</td>\n",
       "      <td>110</td>\n",
       "      <td>4</td>\n",
       "      <td>Obesity</td>\n",
       "      <td>0</td>\n",
       "    </tr>\n",
       "    <tr>\n",
       "      <th>3</th>\n",
       "      <td>Female</td>\n",
       "      <td>195</td>\n",
       "      <td>104</td>\n",
       "      <td>3</td>\n",
       "      <td>Overweight</td>\n",
       "      <td>0</td>\n",
       "    </tr>\n",
       "    <tr>\n",
       "      <th>4</th>\n",
       "      <td>Male</td>\n",
       "      <td>149</td>\n",
       "      <td>61</td>\n",
       "      <td>3</td>\n",
       "      <td>Overweight</td>\n",
       "      <td>1</td>\n",
       "    </tr>\n",
       "  </tbody>\n",
       "</table>\n",
       "</div>"
      ],
      "text/plain": [
       "   Gender  Height  Weight  Index    Category  Gender Number\n",
       "0    Male     174      96      4     Obesity              1\n",
       "1    Male     189      87      2      Normal              1\n",
       "2  Female     185     110      4     Obesity              0\n",
       "3  Female     195     104      3  Overweight              0\n",
       "4    Male     149      61      3  Overweight              1"
      ]
     },
     "execution_count": 10,
     "metadata": {},
     "output_type": "execute_result"
    }
   ],
   "source": [
    "# Change and create a column for the value of male to 1 and female to 0\n",
    "\n",
    "def convert_gender_to_num(x):\n",
    "    if x['Gender'] == 'Male':\n",
    "        return 1\n",
    "    elif x['Gender'] == 'Female':\n",
    "        return 0\n",
    "df['Gender Number'] = df.apply(convert_gender_to_num, axis=1)\n",
    "df.head()"
   ]
  },
  {
   "cell_type": "markdown",
   "metadata": {
    "slideshow": {
     "slide_type": "slide"
    }
   },
   "source": [
    "# Part 2: Machine Learning \n",
    "\n",
    "* Using Logistic Regression"
   ]
  },
  {
   "cell_type": "markdown",
   "metadata": {
    "slideshow": {
     "slide_type": "slide"
    }
   },
   "source": [
    "# Change 'Index' into 2 Classifications:\n",
    "\n",
    "1) healthy = 2 ---> 1\n",
    "\n",
    "2) unhealthy = 0, 1, 3, 4, 5 ---> 0\n",
    "\n",
    "* Create a function that converts the numbers into the 0(healthy) or 1(unhealthy)"
   ]
  },
  {
   "cell_type": "code",
   "execution_count": 11,
   "metadata": {
    "slideshow": {
     "slide_type": "slide"
    }
   },
   "outputs": [
    {
     "data": {
      "text/html": [
       "<div>\n",
       "<style scoped>\n",
       "    .dataframe tbody tr th:only-of-type {\n",
       "        vertical-align: middle;\n",
       "    }\n",
       "\n",
       "    .dataframe tbody tr th {\n",
       "        vertical-align: top;\n",
       "    }\n",
       "\n",
       "    .dataframe thead th {\n",
       "        text-align: right;\n",
       "    }\n",
       "</style>\n",
       "<table border=\"1\" class=\"dataframe\">\n",
       "  <thead>\n",
       "    <tr style=\"text-align: right;\">\n",
       "      <th></th>\n",
       "      <th>Gender</th>\n",
       "      <th>Height</th>\n",
       "      <th>Weight</th>\n",
       "      <th>Index</th>\n",
       "      <th>Category</th>\n",
       "      <th>Gender Number</th>\n",
       "      <th>Labels</th>\n",
       "    </tr>\n",
       "  </thead>\n",
       "  <tbody>\n",
       "    <tr>\n",
       "      <th>0</th>\n",
       "      <td>Male</td>\n",
       "      <td>174</td>\n",
       "      <td>96</td>\n",
       "      <td>4</td>\n",
       "      <td>Obesity</td>\n",
       "      <td>1</td>\n",
       "      <td>0</td>\n",
       "    </tr>\n",
       "    <tr>\n",
       "      <th>1</th>\n",
       "      <td>Male</td>\n",
       "      <td>189</td>\n",
       "      <td>87</td>\n",
       "      <td>2</td>\n",
       "      <td>Normal</td>\n",
       "      <td>1</td>\n",
       "      <td>1</td>\n",
       "    </tr>\n",
       "    <tr>\n",
       "      <th>2</th>\n",
       "      <td>Female</td>\n",
       "      <td>185</td>\n",
       "      <td>110</td>\n",
       "      <td>4</td>\n",
       "      <td>Obesity</td>\n",
       "      <td>0</td>\n",
       "      <td>0</td>\n",
       "    </tr>\n",
       "    <tr>\n",
       "      <th>3</th>\n",
       "      <td>Female</td>\n",
       "      <td>195</td>\n",
       "      <td>104</td>\n",
       "      <td>3</td>\n",
       "      <td>Overweight</td>\n",
       "      <td>0</td>\n",
       "      <td>0</td>\n",
       "    </tr>\n",
       "    <tr>\n",
       "      <th>4</th>\n",
       "      <td>Male</td>\n",
       "      <td>149</td>\n",
       "      <td>61</td>\n",
       "      <td>3</td>\n",
       "      <td>Overweight</td>\n",
       "      <td>1</td>\n",
       "      <td>0</td>\n",
       "    </tr>\n",
       "  </tbody>\n",
       "</table>\n",
       "</div>"
      ],
      "text/plain": [
       "   Gender  Height  Weight  Index    Category  Gender Number  Labels\n",
       "0    Male     174      96      4     Obesity              1       0\n",
       "1    Male     189      87      2      Normal              1       1\n",
       "2  Female     185     110      4     Obesity              0       0\n",
       "3  Female     195     104      3  Overweight              0       0\n",
       "4    Male     149      61      3  Overweight              1       0"
      ]
     },
     "execution_count": 11,
     "metadata": {},
     "output_type": "execute_result"
    }
   ],
   "source": [
    "def convert_index_to_label(df):\n",
    "    if df['Index'] == 0:\n",
    "        return 0\n",
    "    elif df['Index'] == 1:\n",
    "        return 0\n",
    "    elif df['Index'] == 2:    # 2 is normal and this is healthy\n",
    "        return 1\n",
    "    elif df['Index'] == 3:\n",
    "        return 0\n",
    "    elif df['Index']== 4:\n",
    "        return 0\n",
    "    elif df['Index'] == 5:\n",
    "        return 0\n",
    "    \n",
    "df['Labels'] = df.apply(convert_index_to_label, axis=1)  # Add a new column called Labels\n",
    "df.head()"
   ]
  },
  {
   "cell_type": "code",
   "execution_count": 13,
   "metadata": {
    "slideshow": {
     "slide_type": "slide"
    }
   },
   "outputs": [
    {
     "data": {
      "text/plain": [
       "0    113\n",
       "1     12\n",
       "Name: Labels, dtype: int64"
      ]
     },
     "execution_count": 13,
     "metadata": {},
     "output_type": "execute_result"
    }
   ],
   "source": [
    "# split the data into train and test\n",
    "\n",
    "from sklearn.model_selection import train_test_split\n",
    "\n",
    "feature_cols = ['Gender Number', 'Height', 'Weight']\n",
    "\n",
    "X = df[feature_cols]\n",
    "\n",
    "y = df['Labels']\n",
    "\n",
    "X_train, X_test, y_train, y_test = train_test_split(X, y, test_size=0.25, random_state=0)\n",
    "\n",
    "y_test.value_counts()"
   ]
  },
  {
   "cell_type": "code",
   "execution_count": 14,
   "metadata": {
    "slideshow": {
     "slide_type": "slide"
    }
   },
   "outputs": [],
   "source": [
    "# Normalize the data by scaling it\n",
    "\n",
    "from sklearn.preprocessing import StandardScaler\n",
    "\n",
    "scaler = StandardScaler()\n",
    "\n",
    "X_train = scaler.fit_transform(X_train)  \n",
    "X_test = scaler.transform(X_test)"
   ]
  },
  {
   "cell_type": "code",
   "execution_count": 15,
   "metadata": {
    "slideshow": {
     "slide_type": "slide"
    }
   },
   "outputs": [
    {
     "data": {
      "text/plain": [
       "LogisticRegression()"
      ]
     },
     "execution_count": 15,
     "metadata": {},
     "output_type": "execute_result"
    }
   ],
   "source": [
    "# Build the logistic regression model\n",
    "\n",
    "from sklearn.linear_model import LogisticRegression\n",
    "\n",
    "logreg = LogisticRegression()\n",
    "\n",
    "# fit model to see who is classifed as healthy or unhealthy\n",
    "logreg.fit(X_train, y_train)"
   ]
  },
  {
   "cell_type": "code",
   "execution_count": 16,
   "metadata": {
    "slideshow": {
     "slide_type": "slide"
    }
   },
   "outputs": [
    {
     "data": {
      "text/plain": [
       "81.33333333333333"
      ]
     },
     "execution_count": 16,
     "metadata": {},
     "output_type": "execute_result"
    }
   ],
   "source": [
    "# Score the model on the train data\n",
    "\n",
    "logreg.score(X_train, y_train)*100"
   ]
  },
  {
   "cell_type": "code",
   "execution_count": 17,
   "metadata": {
    "slideshow": {
     "slide_type": "slide"
    }
   },
   "outputs": [
    {
     "name": "stdout",
     "output_type": "stream",
     "text": [
      "86.4\n",
      "[[ 0.18992206 -0.3836073   1.98199373]]\n"
     ]
    }
   ],
   "source": [
    "# Score the model on the test data\n",
    "print(logreg.score(X_test, y_test)*100)\n",
    "\n",
    "# in class we came across this issue where the numbers were negative so I multiplied by -1\n",
    "# the .coef_ model shows how significant each feature is\n",
    "print(logreg.coef_*-1)"
   ]
  },
  {
   "cell_type": "markdown",
   "metadata": {
    "slideshow": {
     "slide_type": "slide"
    }
   },
   "source": [
    "# We see that the third feature, which is weight, plays a large role in determining someones BMI\n",
    "\n",
    "\n",
    "### This makes sense because BMI is a measure of someone's thickness or thinness\n",
    "(The more heavy someone is, the thicker their body is)"
   ]
  },
  {
   "cell_type": "code",
   "execution_count": 28,
   "metadata": {
    "slideshow": {
     "slide_type": "slide"
    }
   },
   "outputs": [],
   "source": [
    "# Create predictions for the Model\n",
    "import numpy as np\n",
    "\n",
    "Person1 = np.array([1.0, 157.48, 54.0])   # Female, 157.48cm tall, 54kg\n",
    "Person2 = np.array([1.0, 157.48, 59.0])   # Female, 157.48cm tall, 59kg\n",
    "Person3 = np.array([0.0, 167.64, 59.0])   # Male, 167.64cm tall, 59kg"
   ]
  },
  {
   "cell_type": "code",
   "execution_count": 29,
   "metadata": {
    "slideshow": {
     "slide_type": "slide"
    }
   },
   "outputs": [],
   "source": [
    "test_subjects = np.array([Person1, Person2, Person3])"
   ]
  },
  {
   "cell_type": "code",
   "execution_count": 30,
   "metadata": {
    "slideshow": {
     "slide_type": "slide"
    }
   },
   "outputs": [
    {
     "data": {
      "text/plain": [
       "array([0, 0, 1])"
      ]
     },
     "execution_count": 30,
     "metadata": {},
     "output_type": "execute_result"
    }
   ],
   "source": [
    "# Scale the subjects on their features\n",
    "\n",
    "test_subjects = scaler.transform(test_subjects)\n",
    "logreg.predict(test_subjects)"
   ]
  },
  {
   "cell_type": "code",
   "execution_count": 22,
   "metadata": {},
   "outputs": [
    {
     "name": "stdout",
     "output_type": "stream",
     "text": [
      "[0 0 0 0 0 0 0 0 0 0 0 0 1 0 0 0 0 0 0 0 0 0 0 0 0 0 0 0 0 0 0 0 0 0 0 1 0\n",
      " 0 0 0 0 0 0 0 0 0 0 0 0 0 0 0 0 0 0 0 0 0 1 0 0 0 0 1 0 0 0 0 0 0 0 0 0 0\n",
      " 0 0 0 0 0 0 0 0 0 0 0 0 0 0 0 0 0 0 0 1 0 1 0 0 1 0 0 0 0 0 0 0 0 0 0 0 0\n",
      " 0 0 0 0 0 0 0 0 0 0 0 0 0 0]\n"
     ]
    }
   ],
   "source": [
    "y_pred = logreg.predict(X_test)\n",
    "\n",
    "print(y_pred)"
   ]
  },
  {
   "cell_type": "code",
   "execution_count": 23,
   "metadata": {
    "slideshow": {
     "slide_type": "slide"
    }
   },
   "outputs": [
    {
     "name": "stdout",
     "output_type": "stream",
     "text": [
      "[[107   6]\n",
      " [ 11   1]]\n"
     ]
    }
   ],
   "source": [
    "from sklearn import metrics\n",
    "\n",
    "confusion = metrics.confusion_matrix(y_test, y_pred)\n",
    "print(confusion)\n",
    "\n",
    "TP = confusion[1, 1]\n",
    "TN = confusion[0, 0]\n",
    "FP = confusion[0, 1]\n",
    "FN = confusion[1, 0]"
   ]
  },
  {
   "cell_type": "markdown",
   "metadata": {
    "slideshow": {
     "slide_type": "slide"
    }
   },
   "source": [
    "# Results:\n",
    "\n",
    "* True Negative = 107\n",
    "* False Positive = 6\n",
    "* False Negative = 11\n",
    "* True Positive = 1"
   ]
  },
  {
   "cell_type": "code",
   "execution_count": 25,
   "metadata": {
    "slideshow": {
     "slide_type": "slide"
    }
   },
   "outputs": [
    {
     "data": {
      "text/plain": [
       "86.4"
      ]
     },
     "execution_count": 25,
     "metadata": {},
     "output_type": "execute_result"
    }
   ],
   "source": [
    "from sklearn.metrics import accuracy_score\n",
    "\n",
    "accuracy = accuracy_score(y_test, y_pred)\n",
    "accuracy * 100"
   ]
  },
  {
   "cell_type": "markdown",
   "metadata": {},
   "source": [
    "## When Predicting, I used myself for person1. According to the model, I am 'Unhealthy'. Using the BMI equation to calculate my BMI, I scored 21.58 which falls in the 'Normal Weight' category. \n"
   ]
  },
  {
   "cell_type": "code",
   "execution_count": 27,
   "metadata": {},
   "outputs": [
    {
     "data": {
      "text/plain": [
       "21.580124869927158"
      ]
     },
     "execution_count": 27,
     "metadata": {},
     "output_type": "execute_result"
    }
   ],
   "source": [
    "my_height = (5*12) + 2    # feet to inches \n",
    "my_weight = 118           # lbs\n",
    "my_bmi = (my_weight / (my_height**2)) * 703\n",
    "my_bmi"
   ]
  },
  {
   "cell_type": "markdown",
   "metadata": {
    "slideshow": {
     "slide_type": "slide"
    }
   },
   "source": [
    "# Part 3: Using Pyspark\n",
    "\n",
    "- https://spark.apache.org/docs/2.3.0/api/python/pyspark.ml.html#pyspark.ml.classification.LogisticRegressionSummary"
   ]
  },
  {
   "cell_type": "code",
   "execution_count": 1,
   "metadata": {
    "slideshow": {
     "slide_type": "slide"
    }
   },
   "outputs": [
    {
     "name": "stdout",
     "output_type": "stream",
     "text": [
      "+------+------+------+-----+\n",
      "|Gender|Height|Weight|Index|\n",
      "+------+------+------+-----+\n",
      "|  Male|   174|    96|    4|\n",
      "|  Male|   189|    87|    2|\n",
      "|Female|   185|   110|    4|\n",
      "|Female|   195|   104|    3|\n",
      "|  Male|   149|    61|    3|\n",
      "|  Male|   189|   104|    3|\n",
      "|  Male|   147|    92|    5|\n",
      "|  Male|   154|   111|    5|\n",
      "|  Male|   174|    90|    3|\n",
      "|Female|   169|   103|    4|\n",
      "+------+------+------+-----+\n",
      "only showing top 10 rows\n",
      "\n"
     ]
    }
   ],
   "source": [
    "from pyspark import SparkContext\n",
    "sc = SparkContext()\n",
    "from pyspark.sql import SparkSession\n",
    "from pyspark.mllib.regression import LabeledPoint\n",
    "from pyspark.mllib.regression import LinearRegressionWithSGD as lrSGD\n",
    "\n",
    "spark = SparkSession \\\n",
    "    .builder \\\n",
    "    .appName(\"BMI Data with Pyspark\") \\\n",
    "    .config(\"spark.some.config.option\", \"some-value\") \\\n",
    "    .getOrCreate()\n",
    "\n",
    "df = spark.read.csv('Datasets/Gender_Height_Weight.csv',header=True, inferSchema = True)\n",
    "\n",
    "df.show(10)"
   ]
  },
  {
   "cell_type": "code",
   "execution_count": 2,
   "metadata": {
    "slideshow": {
     "slide_type": "slide"
    }
   },
   "outputs": [
    {
     "data": {
      "text/plain": [
       "Row(Gender='Male', Height=174, Weight=96, Index=4)"
      ]
     },
     "execution_count": 2,
     "metadata": {},
     "output_type": "execute_result"
    }
   ],
   "source": [
    "df.head()"
   ]
  },
  {
   "cell_type": "code",
   "execution_count": 6,
   "metadata": {
    "slideshow": {
     "slide_type": "slide"
    }
   },
   "outputs": [
    {
     "data": {
      "text/plain": [
       "['Gender', 'Height', 'Weight', 'Index']"
      ]
     },
     "execution_count": 6,
     "metadata": {},
     "output_type": "execute_result"
    }
   ],
   "source": [
    "df.columns"
   ]
  },
  {
   "cell_type": "code",
   "execution_count": 14,
   "metadata": {
    "slideshow": {
     "slide_type": "slide"
    }
   },
   "outputs": [
    {
     "data": {
      "text/plain": [
       "(500, 4)"
      ]
     },
     "execution_count": 14,
     "metadata": {},
     "output_type": "execute_result"
    }
   ],
   "source": [
    "# Number of Subjects, Number of Columns\n",
    "\n",
    "(df.count() , len(df.columns))"
   ]
  },
  {
   "cell_type": "code",
   "execution_count": 16,
   "metadata": {
    "slideshow": {
     "slide_type": "slide"
    }
   },
   "outputs": [
    {
     "name": "stdout",
     "output_type": "stream",
     "text": [
      "+------+-----+\n",
      "|Gender|count|\n",
      "+------+-----+\n",
      "|Female|  255|\n",
      "|  Male|  245|\n",
      "+------+-----+\n",
      "\n"
     ]
    }
   ],
   "source": [
    "df.groupBy('Gender').count().show()"
   ]
  },
  {
   "cell_type": "code",
   "execution_count": 26,
   "metadata": {
    "scrolled": true,
    "slideshow": {
     "slide_type": "slide"
    }
   },
   "outputs": [
    {
     "name": "stdout",
     "output_type": "stream",
     "text": [
      "+-----------+-----+\n",
      "|(Index = 2)|count|\n",
      "+-----------+-----+\n",
      "|       true|   69|\n",
      "|      false|  431|\n",
      "+-----------+-----+\n",
      "\n"
     ]
    }
   ],
   "source": [
    "# Number of Healthy vs Unhealthy\n",
    "\n",
    "df.groupBy(df.Index == 2).count().show()"
   ]
  },
  {
   "cell_type": "code",
   "execution_count": 2,
   "metadata": {
    "slideshow": {
     "slide_type": "slide"
    }
   },
   "outputs": [
    {
     "name": "stdout",
     "output_type": "stream",
     "text": [
      "+------+------+------+-----+\n",
      "|Gender|Height|Weight|Index|\n",
      "+------+------+------+-----+\n",
      "|  Male|   174|    96|    0|\n",
      "|  Male|   189|    87|    1|\n",
      "|Female|   185|   110|    0|\n",
      "|Female|   195|   104|    0|\n",
      "|  Male|   149|    61|    0|\n",
      "|  Male|   189|   104|    0|\n",
      "|  Male|   147|    92|    0|\n",
      "|  Male|   154|   111|    0|\n",
      "|  Male|   174|    90|    0|\n",
      "|Female|   169|   103|    0|\n",
      "+------+------+------+-----+\n",
      "only showing top 10 rows\n",
      "\n"
     ]
    }
   ],
   "source": [
    "# Convert all 0's, 1's, 3's, 4's, 5's to 0 for unhealthy\n",
    "# Convert all 2's to 1 for healthy\n",
    "\n",
    "from pyspark.sql.functions import when\n",
    "\n",
    "df = df.withColumn(\"Index\", when(df.Index == 0, 0)\n",
    "                   .when(df.Index == 1, 0)\n",
    "                   .when(df.Index == 3, 0)\n",
    "                   .when(df.Index == 4, 0)\n",
    "                   .when(df.Index == 5, 0).otherwise(1))\n",
    "\n",
    "df.select(\"Gender\", \"Height\", \"Weight\", \"Index\").show(10)"
   ]
  },
  {
   "cell_type": "code",
   "execution_count": 3,
   "metadata": {
    "slideshow": {
     "slide_type": "slide"
    }
   },
   "outputs": [
    {
     "name": "stdout",
     "output_type": "stream",
     "text": [
      "+-----------+-----+\n",
      "|(Index = 1)|count|\n",
      "+-----------+-----+\n",
      "|       true|   69|\n",
      "|      false|  431|\n",
      "+-----------+-----+\n",
      "\n"
     ]
    }
   ],
   "source": [
    "df.groupBy(df.Index == 1).count().show()"
   ]
  },
  {
   "cell_type": "code",
   "execution_count": 79,
   "metadata": {
    "slideshow": {
     "slide_type": "slide"
    }
   },
   "outputs": [
    {
     "name": "stdout",
     "output_type": "stream",
     "text": [
      "+------+------+------+-----+-------------+\n",
      "|Gender|Height|Weight|Index|       vector|\n",
      "+------+------+------+-----+-------------+\n",
      "|  Male|   174|    96|    0| [174.0,96.0]|\n",
      "|  Male|   189|    87|    1| [189.0,87.0]|\n",
      "|Female|   185|   110|    0|[185.0,110.0]|\n",
      "|Female|   195|   104|    0|[195.0,104.0]|\n",
      "|  Male|   149|    61|    0| [149.0,61.0]|\n",
      "|  Male|   189|   104|    0|[189.0,104.0]|\n",
      "|  Male|   147|    92|    0| [147.0,92.0]|\n",
      "|  Male|   154|   111|    0|[154.0,111.0]|\n",
      "|  Male|   174|    90|    0| [174.0,90.0]|\n",
      "|Female|   169|   103|    0|[169.0,103.0]|\n",
      "|  Male|   195|    81|    1| [195.0,81.0]|\n",
      "|Female|   159|    80|    0| [159.0,80.0]|\n",
      "|Female|   192|   101|    0|[192.0,101.0]|\n",
      "|  Male|   155|    51|    1| [155.0,51.0]|\n",
      "|  Male|   191|    79|    1| [191.0,79.0]|\n",
      "|Female|   153|   107|    0|[153.0,107.0]|\n",
      "|Female|   157|   110|    0|[157.0,110.0]|\n",
      "|  Male|   140|   129|    0|[140.0,129.0]|\n",
      "|  Male|   144|   145|    0|[144.0,145.0]|\n",
      "|  Male|   172|   139|    0|[172.0,139.0]|\n",
      "+------+------+------+-----+-------------+\n",
      "only showing top 20 rows\n",
      "\n"
     ]
    }
   ],
   "source": [
    "from pyspark.ml.feature import VectorAssembler\n",
    "\n",
    "# specify the input and output columns of the vector assembler\n",
    "assembler = VectorAssembler(inputCols=['Height',\n",
    "                                       'Weight'],\n",
    "                           outputCol='vector')\n",
    "\n",
    "# transform the data\n",
    "final_data = assembler.transform(df)\n",
    "\n",
    "# view the transformed vector\n",
    "final_data.show()"
   ]
  },
  {
   "cell_type": "code",
   "execution_count": 109,
   "metadata": {
    "slideshow": {
     "slide_type": "slide"
    }
   },
   "outputs": [],
   "source": [
    "train_withoutsc, test_withoutsc = final_data.randomSplit([0.8, 0.2])"
   ]
  },
  {
   "cell_type": "code",
   "execution_count": 83,
   "metadata": {
    "slideshow": {
     "slide_type": "slide"
    }
   },
   "outputs": [
    {
     "name": "stdout",
     "output_type": "stream",
     "text": [
      "+------+------+------+-----+------------+--------------------+\n",
      "|Gender|Height|Weight|Index|      vector|     Scaled_features|\n",
      "+------+------+------+-----+------------+--------------------+\n",
      "|Female|   140|    76|    0|[140.0,76.0]|[8.54948221828693...|\n",
      "+------+------+------+-----+------------+--------------------+\n",
      "only showing top 1 row\n",
      "\n"
     ]
    }
   ],
   "source": [
    "train.show(1)"
   ]
  },
  {
   "cell_type": "code",
   "execution_count": 110,
   "metadata": {
    "scrolled": true,
    "slideshow": {
     "slide_type": "slide"
    }
   },
   "outputs": [
    {
     "name": "stdout",
     "output_type": "stream",
     "text": [
      "+------+------+-----+----------+--------------------+\n",
      "|Height|Weight|Index|Prediction|         Probability|\n",
      "+------+------+-----+----------+--------------------+\n",
      "|   140|   146|    0|       0.0|[0.99843838669701...|\n",
      "|   141|   126|    0|       0.0|[0.99445735581358...|\n",
      "|   142|   137|    0|       0.0|[0.99709817242748...|\n",
      "|   146|   104|    0|       0.0|[0.97511500983717...|\n",
      "|   146|   110|    0|       0.0|[0.98270694825336...|\n",
      "|   147|   126|    0|       0.0|[0.99330417070938...|\n",
      "|   148|    67|    0|       0.0|[0.78795684180945...|\n",
      "|   150|    50|    1|       0.0|[0.54886063364988...|\n",
      "|   150|    97|    0|       0.0|[0.95721498766995...|\n",
      "|   150|   153|    0|       0.0|[0.99861017326971...|\n",
      "|   151|    55|    1|       0.0|[0.61636213875636...|\n",
      "|   151|    64|    0|       0.0|[0.73724708386040...|\n",
      "|   152|   154|    0|       0.0|[0.99860817527308...|\n",
      "|   153|    77|    0|       0.0|[0.85491739166950...|\n",
      "|   156|    89|    0|       0.0|[0.91849304322539...|\n",
      "|   156|   126|    0|       0.0|[0.99111346596322...|\n",
      "|   157|    52|    1|       0.0|[0.52450645105407...|\n",
      "|   157|    60|    1|       0.0|[0.64421941362755...|\n",
      "|   157|   103|    0|       0.0|[0.96294834292752...|\n",
      "|   158|   149|    0|       0.0|[0.99770748446406...|\n",
      "+------+------+-----+----------+--------------------+\n",
      "only showing top 20 rows\n",
      "\n"
     ]
    }
   ],
   "source": [
    "# without scaling data\n",
    "\n",
    "from pyspark.ml.classification import LogisticRegression\n",
    "\n",
    "lr = LogisticRegression(featuresCol = 'vector', labelCol = 'Index', maxIter=5)\n",
    "lrModel = lr.fit(train_withoutsc)\n",
    "predictions = lrModel.transform(test_withoutsc)\n",
    "predictions.select('Height', 'Weight', 'Index', 'Prediction', 'Probability').show()"
   ]
  },
  {
   "cell_type": "code",
   "execution_count": 111,
   "metadata": {
    "slideshow": {
     "slide_type": "slide"
    }
   },
   "outputs": [
    {
     "name": "stdout",
     "output_type": "stream",
     "text": [
      "Accuracy :  0.7924528301886793\n"
     ]
    }
   ],
   "source": [
    "# Accuracy without scaler\n",
    "\n",
    "accuracy = predictions.filter(predictions.Index == predictions.prediction).count() / float(predictions.count())\n",
    "\n",
    "print(\"Accuracy : \", accuracy)"
   ]
  },
  {
   "cell_type": "code",
   "execution_count": 80,
   "metadata": {
    "slideshow": {
     "slide_type": "slide"
    }
   },
   "outputs": [
    {
     "name": "stdout",
     "output_type": "stream",
     "text": [
      "+-------------+--------------------+\n",
      "|       vector|     Scaled_features|\n",
      "+-------------+--------------------+\n",
      "| [174.0,96.0]|[10.6257850427280...|\n",
      "| [189.0,87.0]|[11.5418009946873...|\n",
      "|[185.0,110.0]|[11.2975300741648...|\n",
      "|[195.0,104.0]|[11.9082073754710...|\n",
      "| [149.0,61.0]|[9.09909178946252...|\n",
      "+-------------+--------------------+\n",
      "only showing top 5 rows\n",
      "\n"
     ]
    }
   ],
   "source": [
    "from pyspark.ml.feature import StandardScaler\n",
    "\n",
    "sc = StandardScaler().setInputCol(\"vector\").setOutputCol(\"Scaled_features\")\n",
    "sc_df = sc.fit(final_data).transform(final_data)\n",
    "sc_df.select(\"vector\",\"Scaled_features\").show(5)"
   ]
  },
  {
   "cell_type": "code",
   "execution_count": 81,
   "metadata": {
    "slideshow": {
     "slide_type": "slide"
    }
   },
   "outputs": [],
   "source": [
    "train, test = sc_df.randomSplit([0.8, 0.2])"
   ]
  },
  {
   "cell_type": "code",
   "execution_count": 105,
   "metadata": {
    "scrolled": true,
    "slideshow": {
     "slide_type": "slide"
    }
   },
   "outputs": [
    {
     "name": "stdout",
     "output_type": "stream",
     "text": [
      "+------+------+-----+----------+--------------------+\n",
      "|Height|Weight|Index|Prediction|         Probability|\n",
      "+------+------+-----+----------+--------------------+\n",
      "|   142|    86|    0|       0.0|[0.94120515492060...|\n",
      "|   142|   137|    0|       0.0|[0.99806083745293...|\n",
      "|   142|   159|    0|       0.0|[0.99956538504008...|\n",
      "|   146|   101|    0|       0.0|[0.97483341803314...|\n",
      "|   146|   147|    0|       0.0|[0.99887287838092...|\n",
      "|   147|    67|    0|       0.0|[0.78731998320739...|\n",
      "|   147|   126|    0|       0.0|[0.99514887419976...|\n",
      "|   149|    61|    0|       0.0|[0.69678156051533...|\n",
      "|   149|   108|    0|       0.0|[0.98254083760972...|\n",
      "|   150|    60|    0|       0.0|[0.67473962703013...|\n",
      "|   151|    55|    1|       0.0|[0.58787581520883...|\n",
      "|   151|   158|    0|       0.0|[0.99936683188792...|\n",
      "|   155|    71|    0|       0.0|[0.78699088591544...|\n",
      "|   155|   144|    0|       0.0|[0.99811960287640...|\n",
      "|   156|    89|    0|       0.0|[0.92396477553039...|\n",
      "|   156|   106|    0|       0.0|[0.97477311038646...|\n",
      "|   157|   110|    0|       0.0|[0.98000777270770...|\n",
      "|   159|   104|    0|       0.0|[0.96818204717250...|\n",
      "|   161|   145|    0|       0.0|[0.99784287777680...|\n",
      "|   162|    58|    1|       0.0|[0.54546655133943...|\n",
      "+------+------+-----+----------+--------------------+\n",
      "only showing top 20 rows\n",
      "\n"
     ]
    }
   ],
   "source": [
    "# scaled data\n",
    "\n",
    "from pyspark.ml.classification import LogisticRegression\n",
    "\n",
    "lr_sc = LogisticRegression(featuresCol = 'Scaled_features', labelCol = 'Index', maxIter=5)\n",
    "lrModel_sc = lr_sc.fit(train)\n",
    "predictions_sc = lrModel_sc.transform(test)\n",
    "predictions_sc.select('Height', 'Weight', 'Index', 'Prediction', 'Probability').show()"
   ]
  },
  {
   "cell_type": "code",
   "execution_count": 106,
   "metadata": {
    "slideshow": {
     "slide_type": "slide"
    }
   },
   "outputs": [
    {
     "name": "stdout",
     "output_type": "stream",
     "text": [
      "Accuracy :  0.7864077669902912\n"
     ]
    }
   ],
   "source": [
    "# Accuracy with scaler\n",
    "\n",
    "accuracy = predictions_sc.filter(predictions_sc.Index == predictions_sc.prediction).count() / float(predictions_sc.count())\n",
    "\n",
    "print(\"Accuracy : \", accuracy)"
   ]
  },
  {
   "cell_type": "markdown",
   "metadata": {
    "slideshow": {
     "slide_type": "slide"
    }
   },
   "source": [
    "# Conclusions:\n",
    "- Compared to creating a model with scikit-learn, pyspark was more difficult\n",
    "- One thing about pyspark that I did like using was the .when and .otherwise to perform conversions\n",
    "- The accuracy the ML model with scikit-learn was 86.4%\n",
    "- The accuracy of the ML model with pyspark was less, 79.24%"
   ]
  }
 ],
 "metadata": {
  "celltoolbar": "Slideshow",
  "kernelspec": {
   "display_name": "Python 3",
   "language": "python",
   "name": "python3"
  },
  "language_info": {
   "codemirror_mode": {
    "name": "ipython",
    "version": 3
   },
   "file_extension": ".py",
   "mimetype": "text/x-python",
   "name": "python",
   "nbconvert_exporter": "python",
   "pygments_lexer": "ipython3",
   "version": "3.8.3"
  }
 },
 "nbformat": 4,
 "nbformat_minor": 4
}
