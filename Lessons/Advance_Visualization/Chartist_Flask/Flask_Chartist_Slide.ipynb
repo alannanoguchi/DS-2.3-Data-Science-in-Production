{
 "cells": [
  {
   "cell_type": "markdown",
   "metadata": {
    "slideshow": {
     "slide_type": "slide"
    }
   },
   "source": [
    "## How to have Python Flask as Backend and Javascript in Frontend\n",
    "\n",
    "- How to create dynamic Chartist.js charts based off data supplied by a server\n",
    "\n",
    "- In this example, we use Flask as the server for the data\n",
    "\n",
    "- Google trends data of keywords 'diet', 'gym' and 'finance' to see how they vary over time\n",
    "\n",
    "- Data is from: https://www.datacamp.com/community/tutorials/time-series-analysis-tutorial\n",
    "\n",
    "- Lets watch this video: https://www.youtube.com/watch?v=geKvJbQsOmM\n"
   ]
  },
  {
   "cell_type": "code",
   "execution_count": 5,
   "metadata": {
    "slideshow": {
     "slide_type": "slide"
    }
   },
   "outputs": [
    {
     "name": "stdout",
     "output_type": "stream",
     "text": [
      "       month  diet  gym  finance\n",
      "0    2004-01   100   31       48\n",
      "1    2004-02    75   26       49\n",
      "2    2004-03    67   24       47\n",
      "3    2004-04    70   22       48\n",
      "4    2004-05    72   22       43\n",
      "5    2004-06    64   24       45\n",
      "6    2004-07    60   23       44\n",
      "7    2004-08    59   28       44\n",
      "8    2004-09    53   25       44\n",
      "9    2004-10    52   24       45\n",
      "10   2004-11    50   23       43\n",
      "11   2004-12    42   24       41\n",
      "12   2005-01    64   32       44\n",
      "13   2005-02    54   28       48\n",
      "14   2005-03    56   27       46\n",
      "15   2005-04    56   25       44\n",
      "16   2005-05    59   24       42\n",
      "17   2005-06    53   25       44\n",
      "18   2005-07    53   25       44\n",
      "19   2005-08    51   28       44\n",
      "20   2005-09    47   28       44\n",
      "21   2005-10    46   27       43\n",
      "22   2005-11    44   25       42\n",
      "23   2005-12    40   24       38\n",
      "24   2006-01    64   34       44\n",
      "25   2006-02    51   29       44\n",
      "26   2006-03    51   28       46\n",
      "27   2006-04    50   27       47\n",
      "28   2006-05    50   26       45\n",
      "29   2006-06    52   25       44\n",
      "..       ...   ...  ...      ...\n",
      "138  2015-07    47   42       46\n",
      "139  2015-08    46   43       48\n",
      "140  2015-09    43   45       48\n",
      "141  2015-10    42   41       46\n",
      "142  2015-11    39   42       42\n",
      "143  2015-12    38   42       40\n",
      "144  2016-01    51   52       44\n",
      "145  2016-02    48   46       46\n",
      "146  2016-03    48   47       44\n",
      "147  2016-04    48   44       43\n",
      "148  2016-05    47   46       42\n",
      "149  2016-06    44   46       45\n",
      "150  2016-07    43   58       41\n",
      "151  2016-08    45   53       41\n",
      "152  2016-09    43   51       44\n",
      "153  2016-10    40   45       41\n",
      "154  2016-11    39   44       43\n",
      "155  2016-12    36   44       39\n",
      "156  2017-01    55   56       43\n",
      "157  2017-02    56   51       44\n",
      "158  2017-03    50   51       44\n",
      "159  2017-04    49   48       42\n",
      "160  2017-05    48   48       43\n",
      "161  2017-06    48   49       41\n",
      "162  2017-07    52   52       43\n",
      "163  2017-08    46   52       43\n",
      "164  2017-09    44   50       47\n",
      "165  2017-10    44   47       45\n",
      "166  2017-11    41   47       47\n",
      "167  2017-12    39   45       56\n",
      "\n",
      "[168 rows x 4 columns]\n",
      "     month  diet  gym\n",
      "0  2004-01   100   31\n",
      "1  2004-02    75   26\n",
      "2  2004-03    67   24\n",
      "3  2004-04    70   22\n",
      "4  2004-05    72   22\n",
      "        month  diet  gym\n",
      "0  2004-01-01   100   31\n",
      "1  2004-02-01    75   26\n",
      "2  2004-03-01    67   24\n",
      "3  2004-04-01    70   22\n",
      "4  2004-05-01    72   22\n",
      "5  2004-06-01    64   24\n",
      "6  2004-07-01    60   23\n",
      "7  2004-08-01    59   28\n",
      "8  2004-09-01    53   25\n",
      "9  2004-10-01    52   24\n",
      "10 2004-11-01    50   23\n",
      "11 2004-12-01    42   24\n",
      "12 2005-01-01    64   32\n",
      "13 2005-02-01    54   28\n",
      "14 2005-03-01    56   27\n",
      "15 2005-04-01    56   25\n",
      "16 2005-05-01    59   24\n",
      "17 2005-06-01    53   25\n",
      "18 2005-07-01    53   25\n",
      "19 2005-08-01    51   28\n",
      "20 2005-09-01    47   28\n",
      "21 2005-10-01    46   27\n",
      "22 2005-11-01    44   25\n",
      "23 2005-12-01    40   24\n"
     ]
    },
    {
     "data": {
      "image/png": "[encoded data removed]",
      "text/plain": [
       "<Figure size 432x288 with 1 Axes>"
      ]
     },
     "metadata": {},
     "output_type": "display_data"
    }
   ],
   "source": [
    "import pandas as pd\n",
    "import matplotlib.pyplot as plt\n",
    "from functools import reduce\n",
    "\n",
    "df = pd.read_csv('multiTimeline.csv', skiprows=1)\n",
    "df.columns = ['month', 'diet', 'gym', 'finance']\n",
    "print(df)\n",
    "\n",
    "# df_new = df[(df['month'].str.contains('2005'))][['month', 'diet']]\n",
    "\n",
    "# df_new = df[(reduce(lambda a, b: a | b, (df['month'].str.contains(s) for s in ['2004', '2005'])))][['month', 'diet']]\n",
    "df_new = df[(reduce(lambda a, b: a | b, (df['month'].str.contains(s) for s in ['2004', '2005'])))][['month', 'diet', 'gym']]\n",
    "\n",
    "print(df_new.head())\n",
    "\n",
    "df_new['month'] = pd.to_datetime(df_new['month'])\n",
    "df_new = df_new.sort_values(by=['month'])\n",
    "print(df_new)\n",
    "plt.plot(df_new['month'], df_new['diet'])\n",
    "plt.plot(df_new['month'], df_new['gym'])\n",
    "plt.show()"
   ]
  },
  {
   "cell_type": "code",
   "execution_count": null,
   "metadata": {
    "slideshow": {
     "slide_type": "slide"
    }
   },
   "outputs": [],
   "source": [
    "from flask import Flask, request, jsonify\n",
    "import matplotlib.pyplot as plt\n",
    "from functools import reduce\n",
    "import pandas as pd\n",
    "\n",
    "\n",
    "# curl \"http://0.0.0.0:3000/?n=2004&n=2005&m=diet&m=gym\"\n",
    "# https://www.datacamp.com/community/tutorials/time-series-analysis-tutorial\n",
    "\n",
    "app = Flask(__name__)\n",
    "\n",
    "df = pd.read_csv('multiTimeline.csv', skiprows=1)\n",
    "df.columns = ['month', 'diet', 'gym', 'finance']\n",
    "\n",
    "\n",
    "@app.route('/', methods=['GET'])\n",
    "def my_route():\n",
    "    ls_year = request.args.getlist('n')\n",
    "    ls_col = request.args.getlist('m')\n",
    "    print(ls_year)\n",
    "\n",
    "    df_new = df[(reduce(lambda a, b: a | b, (df['month'].str.contains(s) for s in ls_year)))][['month'] + ls_col]\n",
    "\n",
    "    df_new['month'] = pd.to_datetime(df_new['month'])\n",
    "    df_new = df_new.sort_values(by=['month'])\n",
    "\n",
    "    return jsonify(df_new.to_json())\n",
    "\n",
    "\n",
    "if __name__ == \"__main__\":\n",
    "    app.run(host='0.0.0.0', port=3000)"
   ]
  }
 ],
 "metadata": {
  "celltoolbar": "Slideshow",
  "kernelspec": {
   "display_name": "Python 3",
   "language": "python",
   "name": "python3"
  },
  "language_info": {
   "codemirror_mode": {
    "name": "ipython",
    "version": 3
   },
   "file_extension": ".py",
   "mimetype": "text/x-python",
   "name": "python",
   "nbconvert_exporter": "python",
   "pygments_lexer": "ipython3",
   "version": "3.8.3"
  }
 },
 "nbformat": 4,
 "nbformat_minor": 2
}
