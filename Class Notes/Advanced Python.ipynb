{
 "cells": [
  {
   "cell_type": "markdown",
   "metadata": {},
   "source": [
    "# Learning Objectives\n",
    "\n",
    "- What is Generator in Python, why do we need it\n",
    "\n",
    "- Learn about Abstract Method, Class Method and Static Method\n",
    "\n",
    "- Learn about functional programming and decorators in Python"
   ]
  },
  {
   "cell_type": "markdown",
   "metadata": {},
   "source": [
    "## Iterator - Generator\n",
    "\n",
    "- Any function that uses the ‘yield’ statement is the generator\n",
    "\n",
    "- Each yield temporarily suspends processing, remem- bering the location execution state\n",
    "\n",
    "- When the generator iteration resumes, it picks-up where it left-off"
   ]
  },
  {
   "cell_type": "code",
   "execution_count": 1,
   "metadata": {},
   "outputs": [
    {
     "name": "stdout",
     "output_type": "stream",
     "text": [
      "1\n",
      "3\n",
      "6\n",
      "10\n"
     ]
    }
   ],
   "source": [
    "def generator_ex(ls):\n",
    "    s = 0\n",
    "    for i in ls:\n",
    "        s += i\n",
    "        yield s\n",
    "        \n",
    "G = generator_ex([1, 2, 3, 4])\n",
    "\n",
    "for item in G:\n",
    "    print(item)"
   ]
  },
  {
   "cell_type": "code",
   "execution_count": 2,
   "metadata": {},
   "outputs": [],
   "source": [
    "### Explain why nothing will be printed:\n",
    "# G is not defined in this cell\n",
    "\n",
    "for item in G:\n",
    "    print(item)"
   ]
  },
  {
   "cell_type": "code",
   "execution_count": 3,
   "metadata": {},
   "outputs": [
    {
     "name": "stdout",
     "output_type": "stream",
     "text": [
      "1\n"
     ]
    }
   ],
   "source": [
    "# next() will print the next item in the list \n",
    "\n",
    "G = generator_ex([1, 2, 3, 4])\n",
    "print(next(G))"
   ]
  },
  {
   "cell_type": "code",
   "execution_count": 4,
   "metadata": {},
   "outputs": [
    {
     "name": "stdout",
     "output_type": "stream",
     "text": [
      "3\n"
     ]
    }
   ],
   "source": [
    "print(next(G))"
   ]
  },
  {
   "cell_type": "code",
   "execution_count": 15,
   "metadata": {},
   "outputs": [],
   "source": [
    "iter_ex = iter((1, 2, 3, 4))"
   ]
  },
  {
   "cell_type": "code",
   "execution_count": 16,
   "metadata": {},
   "outputs": [
    {
     "name": "stdout",
     "output_type": "stream",
     "text": [
      "1\n"
     ]
    }
   ],
   "source": [
    "print(next(iter_ex))"
   ]
  },
  {
   "cell_type": "code",
   "execution_count": 17,
   "metadata": {},
   "outputs": [
    {
     "name": "stdout",
     "output_type": "stream",
     "text": [
      "2\n"
     ]
    }
   ],
   "source": [
    "print(next(iter_ex))"
   ]
  },
  {
   "cell_type": "code",
   "execution_count": 18,
   "metadata": {},
   "outputs": [
    {
     "name": "stdout",
     "output_type": "stream",
     "text": [
      "1\n",
      "3\n",
      "6\n",
      "10\n"
     ]
    }
   ],
   "source": [
    "# \n",
    "\n",
    "G = generator_ex(iter((1, 2, 3, 4)))\n",
    "\n",
    "for item in G:\n",
    "    print(item)"
   ]
  },
  {
   "cell_type": "markdown",
   "metadata": {},
   "source": [
    "## Generator Expressions"
   ]
  },
  {
   "cell_type": "code",
   "execution_count": 19,
   "metadata": {},
   "outputs": [],
   "source": [
    "b = (x*x for x in range(10))"
   ]
  },
  {
   "cell_type": "code",
   "execution_count": 20,
   "metadata": {},
   "outputs": [
    {
     "name": "stdout",
     "output_type": "stream",
     "text": [
      "<class 'generator'>\n"
     ]
    }
   ],
   "source": [
    "print(type(b))"
   ]
  },
  {
   "cell_type": "code",
   "execution_count": 21,
   "metadata": {},
   "outputs": [
    {
     "name": "stdout",
     "output_type": "stream",
     "text": [
      "0\n"
     ]
    }
   ],
   "source": [
    "print(next(b))"
   ]
  },
  {
   "cell_type": "code",
   "execution_count": 23,
   "metadata": {},
   "outputs": [
    {
     "data": {
      "text/plain": [
       "[0, 1, 4, 9, 16, 25, 36, 49, 64, 81]"
      ]
     },
     "execution_count": 23,
     "metadata": {},
     "output_type": "execute_result"
    }
   ],
   "source": [
    "b_list = [x*x for x in range(10)]\n",
    "\n",
    "b_list"
   ]
  },
  {
   "cell_type": "markdown",
   "metadata": {},
   "source": [
    "# Activity: A use case of Generator (Sum of Squared for very large N)\n",
    "    - for numbers from 1 to 2,000,000,000, what is their sum of squared? Let's print the computation steps also. "
   ]
  },
  {
   "cell_type": "code",
   "execution_count": null,
   "metadata": {},
   "outputs": [],
   "source": [
    "# N = 2000000000\n",
    "\n",
    "# ls_input = (i**2 for i in range(N + 1))\n",
    "\n",
    "# iterator_input = (i**2 for i in range(N + 1))\n",
    "\n",
    "# list_input = [i**2 for i in range(N + 1)]"
   ]
  },
  {
   "cell_type": "code",
   "execution_count": null,
   "metadata": {},
   "outputs": [],
   "source": [
    "def firstn(ls, n):\n",
    "    ls = iter(ls)\n",
    "    s = 0\n",
    "    for _ in range(n):\n",
    "        s = s + next(ls)\n",
    "        yield s\n",
    "        \n",
    "N = 2000000000\n",
    "iterator_input = (i**2 for i in range (N + 1))\n",
    "G = firstn(iterator_input, N + 1)\n",
    "\n",
    "for i in G:\n",
    "    print(i)"
   ]
  },
  {
   "cell_type": "markdown",
   "metadata": {},
   "source": [
    "# Compare the above with:"
   ]
  },
  {
   "cell_type": "code",
   "execution_count": null,
   "metadata": {},
   "outputs": [],
   "source": [
    "def firstn(ls, n):\n",
    "    s = 0\n",
    "    for i in range(n):\n",
    "        s = s + ls[i]\n",
    "        yield s\n",
    "        \n",
    "N = 2000000000\n",
    "G = firstn([i**2 for i in range(N + 1)])\n",
    "\n",
    "for i in G:\n",
    "    print(i)"
   ]
  },
  {
   "cell_type": "markdown",
   "metadata": {},
   "source": [
    "## Abstract Methods\n",
    "\n",
    "- Abstract methods are the methods which does not contain any implemetation\n",
    "\n",
    "- But the child-class need to implement these methods. Otherwise error will be reported\n",
    "\n",
    "- The reason for using Abstract Methods are:\n",
    "\n",
    "    1. writing code modulars\n",
    "    2. do not repeat yourself"
   ]
  },
  {
   "cell_type": "code",
   "execution_count": 24,
   "metadata": {},
   "outputs": [
    {
     "name": "stdout",
     "output_type": "stream",
     "text": [
      "3\n",
      "6\n",
      "16\n",
      "4.0\n"
     ]
    }
   ],
   "source": [
    "from abc import ABC, abstractmethod\n",
    "\n",
    "\n",
    "class AbstractOperation(ABC):\n",
    "\n",
    "    def __init__(self, operand_a, operand_b):\n",
    "        self.operand_a = operand_a\n",
    "        self.operand_b = operand_b\n",
    "        super(AbstractOperation, self).__init__()\n",
    "\n",
    "    @abstractmethod\n",
    "    def execute(self):\n",
    "        pass\n",
    "\n",
    "\n",
    "class AddOperation(AbstractOperation):\n",
    "    def execute(self):\n",
    "        return self.operand_a + self.operand_b\n",
    "\n",
    "\n",
    "class SubtractOperation(AbstractOperation):\n",
    "    def execute(self):\n",
    "        return self.operand_a - self.operand_b\n",
    "\n",
    "\n",
    "class MultiplyOperation(AbstractOperation):\n",
    "    def execute(self):\n",
    "        return self.operand_a * self.operand_b\n",
    "\n",
    "\n",
    "class DivideOperation(AbstractOperation):\n",
    "    def execute(self):\n",
    "        return self.operand_a / self.operand_b\n",
    "\n",
    "\n",
    "operation = AddOperation(1, 2)\n",
    "print(operation.execute())\n",
    "operation = SubtractOperation(8, 2)\n",
    "print(operation.execute())\n",
    "operation = MultiplyOperation(8, 2)\n",
    "print(operation.execute())\n",
    "operation = DivideOperation(8, 2)\n",
    "print(operation.execute())"
   ]
  },
  {
   "cell_type": "markdown",
   "metadata": {},
   "source": [
    "## Classmethod, Staticmethod"
   ]
  },
  {
   "cell_type": "code",
   "execution_count": 25,
   "metadata": {},
   "outputs": [
    {
     "name": "stdout",
     "output_type": "stream",
     "text": [
      "Adam's age is: 19\n",
      "John's age is: 35\n"
     ]
    }
   ],
   "source": [
    "from datetime import date\n",
    "\n",
    "# random Person\n",
    "class Person:\n",
    "    def __init__(self, name, age):\n",
    "        self.name = name\n",
    "        self.age = age\n",
    "\n",
    "    @classmethod\n",
    "    def fromBirthYear(cls, name, birthYear):\n",
    "        return cls(name, date.today().year - birthYear)\n",
    "\n",
    "    def display(self):\n",
    "        print(self.name + \"'s age is: \" + str(self.age))\n",
    "\n",
    "person = Person('Adam', 19)\n",
    "person.display()\n",
    "\n",
    "person1 = Person.fromBirthYear('John',  1985)\n",
    "person1.display()"
   ]
  },
  {
   "cell_type": "code",
   "execution_count": 26,
   "metadata": {},
   "outputs": [
    {
     "name": "stdout",
     "output_type": "stream",
     "text": [
      "True\n",
      "False\n"
     ]
    }
   ],
   "source": [
    "from datetime import date\n",
    "\n",
    "\n",
    "# random Person\n",
    "class Person:\n",
    "    def __init__(self, name, age):\n",
    "        self.name = name\n",
    "        self.age = age\n",
    "\n",
    "    @staticmethod\n",
    "    def from_fathers_age(name, father_age, father_person_age_diff):\n",
    "        return Person(name, date.today().year - father_age + father_person_age_diff)\n",
    "\n",
    "    @classmethod\n",
    "    def from_birth_year(cls, name, birth_year):\n",
    "        return cls(name, date.today().year - birth_year)\n",
    "\n",
    "    def display(self):\n",
    "        print(self.name + \"'s age is: \" + str(self.age))\n",
    "\n",
    "\n",
    "class Man(Person):\n",
    "    sex = 'Male'\n",
    "\n",
    "\n",
    "man = Man.from_birth_year('John', 1985)\n",
    "print(isinstance(man, Man))\n",
    "\n",
    "man1 = Man.from_fathers_age('John', 1965, 20)\n",
    "print(isinstance(man1, Man))"
   ]
  },
  {
   "cell_type": "code",
   "execution_count": 30,
   "metadata": {},
   "outputs": [
    {
     "name": "stdout",
     "output_type": "stream",
     "text": [
      "{'day': 11, 'month': 9, 'year': 2012}\n"
     ]
    }
   ],
   "source": [
    "class Date(object):\n",
    "\n",
    "    def __init__(self, day=0, month=0, year=0):\n",
    "        self.day = day\n",
    "        self.month = month\n",
    "        self.year = year\n",
    "        \n",
    "    @classmethod\n",
    "    def from_string(cls, date_as_string):\n",
    "        day, month, year = map(int, date_as_string.split('-'))\n",
    "        date1 = cls(day, month, year)\n",
    "        return date1\n",
    "\n",
    "date2 = Date.from_string('11-09-2012')\n",
    "print(date2.__dict__)"
   ]
  },
  {
   "cell_type": "markdown",
   "metadata": {},
   "source": [
    "## Class Variable, object variable"
   ]
  },
  {
   "cell_type": "code",
   "execution_count": 27,
   "metadata": {},
   "outputs": [],
   "source": [
    "# empCount is a class variable\n",
    "class Employee:\n",
    "    'Common base class for all employees'\n",
    "    empCount = 0\n",
    "\n",
    "    def __init__(self, name, salary):\n",
    "        self.name = name\n",
    "        self.salary = salary\n",
    "        Employee.empCount += 1\n",
    "\n",
    "    def displayCount(self):\n",
    "        print(\"Total Employee %d\" % Employee.empCount)\n",
    "\n",
    "    def displayEmployee(self):\n",
    "        print(\"Name : \", self.name, \", Salary: \", self.salary)"
   ]
  },
  {
   "cell_type": "code",
   "execution_count": 28,
   "metadata": {},
   "outputs": [
    {
     "name": "stdout",
     "output_type": "stream",
     "text": [
      "Total Employee 2\n"
     ]
    }
   ],
   "source": [
    "# \"This would create first object of Employee class\"\n",
    "emp1 = Employee(\"Zara\", 2000)\n",
    "# \"This would create second object of Employee class\"\n",
    "emp2 = Employee(\"Manni\", 5000)\n",
    "print(\"Total Employee %d\" % Employee.empCount)"
   ]
  },
  {
   "cell_type": "code",
   "execution_count": null,
   "metadata": {},
   "outputs": [],
   "source": [
    "class Employee:\n",
    "    'Common base class for all employees'\n",
    "    count = 0\n",
    "\n",
    "    def __init__(self, name, salary):\n",
    "        self.name = name\n",
    "        self.salary = salary\n",
    "        Employee.incrementCount()\n",
    "\n",
    "    def displayCount(self):\n",
    "        print(\"Total Employee %d\" % self.empCount)\n",
    "\n",
    "    def displayEmployee(self):\n",
    "        print(\"Name : \", self.name, \", Salary: \", self.salary)\n",
    "\n",
    "\n",
    "# \"This would create first object of Employee class\"\n",
    "emp1 = Employee(\"Zara\", 2000)\n",
    "# \"This would create second object of Employee class\"\n",
    "emp2 = Employee(\"Manni\", 5000)\n",
    "\n",
    "print(Employee.empCount)\n",
    "print(emp1.empCount)"
   ]
  },
  {
   "cell_type": "markdown",
   "metadata": {},
   "source": [
    "## Method, Classmethod, Staticmethod\n",
    "\n",
    "Assume the class is written for addition\n",
    "\n",
    "- Method : it uses the instance variable (self.x) for addition, which is set by __init__ function\n",
    "\n",
    "- classmethod : it uses class variable for addition\n",
    "\n",
    "- staticmethod : it uses the value of x which is defined in main program (i.e. outside the class)"
   ]
  },
  {
   "cell_type": "code",
   "execution_count": 29,
   "metadata": {},
   "outputs": [
    {
     "name": "stdout",
     "output_type": "stream",
     "text": [
      "method: 14\n",
      "classmethod: 19\n",
      "staticmethod: 30\n"
     ]
    }
   ],
   "source": [
    "#Resource:  https://media.readthedocs.org/pdf/pythonguide/latest/pythonguide.pdf\n",
    "\n",
    "# below x will be used by static method\n",
    "# if we do not define it, the staticmethod will generate error.\n",
    "\n",
    "x = 20\n",
    "\n",
    "\n",
    "class Add(object):\n",
    "    x = 9  # class variable\n",
    "\n",
    "    def __init__(self, x):\n",
    "        self.x = x  # instance variable\n",
    "\n",
    "    def addMethod(self, y):\n",
    "        print(\"method:\", self.x + y)\n",
    "\n",
    "    @classmethod\n",
    "    # as convention, cls must be used for classmethod, instead of self\n",
    "    def addClass(cls, y):\n",
    "        print(\"classmethod:\", cls.x + y)\n",
    "\n",
    "    @staticmethod\n",
    "    def addStatic(y):\n",
    "        print(\"staticmethod:\", x + y)\n",
    "\n",
    "\n",
    "def main():  # method\n",
    "    m = Add(x=4)  # or m=Add(4)\n",
    "    # for method, above x = 4, will be used for addition\n",
    "    m.addMethod(10) # method : 14\n",
    "    # classmethod\n",
    "    c = Add(4)\n",
    "    # for class method, class variable x = 9, will be used for addition\n",
    "    c.addClass(10) # classmethod : 19\n",
    "    # for static method, x=20 (at the top of file), will be used for addition\n",
    "    s = Add(4)\n",
    "    s.addStatic(10)  # staticmethod : 30\n",
    "    \n",
    "main()"
   ]
  },
  {
   "cell_type": "markdown",
   "metadata": {},
   "source": [
    "## Decorator\n",
    "\n",
    "- Decorator is a function that creates a wrapper around another function\n",
    "\n",
    "- This wrapper adds some additional functionality to existing code"
   ]
  },
  {
   "cell_type": "code",
   "execution_count": 32,
   "metadata": {},
   "outputs": [],
   "source": [
    "def func(n):\n",
    "    sign = 1\n",
    "    ls = []\n",
    "    \n",
    "    for _ in range(n):\n",
    "        if sign == 1:\n",
    "            sign = -1\n",
    "        elif sign == -1:\n",
    "            sign = 1\n",
    "        ls.append(sign)\n",
    "        \n",
    "    return ls"
   ]
  },
  {
   "cell_type": "code",
   "execution_count": 33,
   "metadata": {},
   "outputs": [
    {
     "name": "stdout",
     "output_type": "stream",
     "text": [
      "[-1, 1, -1, 1, -1, 1, -1, 1, -1, 1]\n"
     ]
    }
   ],
   "source": [
    "print(func(10))"
   ]
  },
  {
   "cell_type": "code",
   "execution_count": 31,
   "metadata": {},
   "outputs": [
    {
     "name": "stdout",
     "output_type": "stream",
     "text": [
      "2\n",
      "adding One\n",
      "3\n"
     ]
    }
   ],
   "source": [
    "def addOne(myFunc):\n",
    "    def addOneInside(x):\n",
    "        print(\"adding One\")\n",
    "        return myFunc(x) + 1\n",
    "    return addOneInside\n",
    "\n",
    "def subThree(x):\n",
    "    return x - 3\n",
    "\n",
    "result = addOne(subThree)\n",
    "print(subThree(5))\n",
    "print(result(5))"
   ]
  },
  {
   "cell_type": "code",
   "execution_count": 34,
   "metadata": {},
   "outputs": [
    {
     "name": "stdout",
     "output_type": "stream",
     "text": [
      "adding One\n",
      "3\n"
     ]
    }
   ],
   "source": [
    "@addOne\n",
    "def subThree(x):\n",
    "    return x - 3\n",
    "\n",
    "print(subThree(5))"
   ]
  },
  {
   "cell_type": "code",
   "execution_count": 35,
   "metadata": {},
   "outputs": [
    {
     "name": "stdout",
     "output_type": "stream",
     "text": [
      "102334155\n"
     ]
    }
   ],
   "source": [
    "def memoize(f):\n",
    "    memo = {}\n",
    "    def helper(x):\n",
    "        if x not in memo:            \n",
    "            memo[x] = f(x)\n",
    "        return memo[x]\n",
    "    return helper\n",
    "    \n",
    "\n",
    "def fib(n):\n",
    "    if n == 0:\n",
    "        return 0\n",
    "    elif n == 1:\n",
    "        return 1\n",
    "    else:\n",
    "        return fib(n-1) + fib(n-2)\n",
    "\n",
    "result = memoize(fib)\n",
    "\n",
    "print(result(40))"
   ]
  },
  {
   "cell_type": "code",
   "execution_count": null,
   "metadata": {},
   "outputs": [],
   "source": []
  }
 ],
 "metadata": {
  "kernelspec": {
   "display_name": "Python 3",
   "language": "python",
   "name": "python3"
  },
  "language_info": {
   "codemirror_mode": {
    "name": "ipython",
    "version": 3
   },
   "file_extension": ".py",
   "mimetype": "text/x-python",
   "name": "python",
   "nbconvert_exporter": "python",
   "pygments_lexer": "ipython3",
   "version": "3.8.3"
  }
 },
 "nbformat": 4,
 "nbformat_minor": 4
}
