{
 "cells": [
  {
   "cell_type": "markdown",
   "metadata": {},
   "source": [
    "# Learning Objectives\n",
    "\n",
    "- What is Generator in Python, why do we need it\n",
    "\n",
    "- Learn about Abstract Method, Class Method and Static Method\n",
    "\n",
    "- Learn about functional programming and decorators in Python"
   ]
  },
  {
   "cell_type": "markdown",
   "metadata": {},
   "source": [
    "## Iterator - Generator\n",
    "\n",
    "- Any function that uses the ‘yield’ statement is the generator\n",
    "\n",
    "- Each yield temporarily suspends processing, remem- bering the location execution state\n",
    "\n",
    "- When the generator iteration resumes, it picks-up where it left-off"
   ]
  },
  {
   "cell_type": "code",
   "execution_count": 1,
   "metadata": {},
   "outputs": [
    {
     "name": "stdout",
     "output_type": "stream",
     "text": [
      "1\n",
      "3\n",
      "6\n",
      "10\n"
     ]
    }
   ],
   "source": [
    "def generator_ex(ls):\n",
    "    s = 0\n",
    "    for i in ls:\n",
    "        s += i\n",
    "        yield s\n",
    "        \n",
    "G = generator_ex([1, 2, 3, 4])\n",
    "\n",
    "for item in G:\n",
    "    print(item)"
   ]
  },
  {
   "cell_type": "code",
   "execution_count": 2,
   "metadata": {},
   "outputs": [],
   "source": [
    "### Explain why nothing will be printed:\n",
    "# G is not defined in this cell\n",
    "\n",
    "for item in G:\n",
    "    print(item)"
   ]
  },
  {
   "cell_type": "code",
   "execution_count": 3,
   "metadata": {},
   "outputs": [
    {
     "name": "stdout",
     "output_type": "stream",
     "text": [
      "1\n"
     ]
    }
   ],
   "source": [
    "# next() will print the next item in the list \n",
    "\n",
    "G = generator_ex([1, 2, 3, 4])\n",
    "print(next(G))"
   ]
  },
  {
   "cell_type": "code",
   "execution_count": 4,
   "metadata": {},
   "outputs": [
    {
     "name": "stdout",
     "output_type": "stream",
     "text": [
      "3\n"
     ]
    }
   ],
   "source": [
    "print(next(G))"
   ]
  },
  {
   "cell_type": "code",
   "execution_count": 15,
   "metadata": {},
   "outputs": [],
   "source": [
    "iter_ex = iter((1, 2, 3, 4))"
   ]
  },
  {
   "cell_type": "code",
   "execution_count": 16,
   "metadata": {},
   "outputs": [
    {
     "name": "stdout",
     "output_type": "stream",
     "text": [
      "1\n"
     ]
    }
   ],
   "source": [
    "print(next(iter_ex))"
   ]
  },
  {
   "cell_type": "code",
   "execution_count": 17,
   "metadata": {},
   "outputs": [
    {
     "name": "stdout",
     "output_type": "stream",
     "text": [
      "2\n"
     ]
    }
   ],
   "source": [
    "print(next(iter_ex))"
   ]
  },
  {
   "cell_type": "code",
   "execution_count": 18,
   "metadata": {},
   "outputs": [
    {
     "name": "stdout",
     "output_type": "stream",
     "text": [
      "1\n",
      "3\n",
      "6\n",
      "10\n"
     ]
    }
   ],
   "source": [
    "# \n",
    "\n",
    "G = generator_ex(iter((1, 2, 3, 4)))\n",
    "\n",
    "for item in G:\n",
    "    print(item)"
   ]
  },
  {
   "cell_type": "markdown",
   "metadata": {},
   "source": [
    "## Generator Expressions"
   ]
  },
  {
   "cell_type": "code",
   "execution_count": 19,
   "metadata": {},
   "outputs": [],
   "source": [
    "b = (x*x for x in range(10))"
   ]
  },
  {
   "cell_type": "code",
   "execution_count": 20,
   "metadata": {},
   "outputs": [
    {
     "name": "stdout",
     "output_type": "stream",
     "text": [
      "<class 'generator'>\n"
     ]
    }
   ],
   "source": [
    "print(type(b))"
   ]
  },
  {
   "cell_type": "code",
   "execution_count": 21,
   "metadata": {},
   "outputs": [
    {
     "name": "stdout",
     "output_type": "stream",
     "text": [
      "0\n"
     ]
    }
   ],
   "source": [
    "print(next(b))"
   ]
  },
  {
   "cell_type": "code",
   "execution_count": 23,
   "metadata": {},
   "outputs": [
    {
     "data": {
      "text/plain": [
       "[0, 1, 4, 9, 16, 25, 36, 49, 64, 81]"
      ]
     },
     "execution_count": 23,
     "metadata": {},
     "output_type": "execute_result"
    }
   ],
   "source": [
    "b_list = [x*x for x in range(10)]\n",
    "\n",
    "b_list"
   ]
  },
  {
   "cell_type": "markdown",
   "metadata": {},
   "source": [
    "# Activity: A use case of Generator (Sum of Squared for very large N)\n",
    "    - for numbers from 1 to 2,000,000,000, what is their sum of squared? Let's print the computation steps also. "
   ]
  },
  {
   "cell_type": "code",
   "execution_count": null,
   "metadata": {},
   "outputs": [],
   "source": [
    "# N = 2000000000\n",
    "\n",
    "# ls_input = (i**2 for i in range(N + 1))\n",
    "\n",
    "# iterator_input = (i**2 for i in range(N + 1))\n",
    "\n",
    "# list_input = [i**2 for i in range(N + 1)]"
   ]
  },
  {
   "cell_type": "code",
   "execution_count": null,
   "metadata": {},
   "outputs": [],
   "source": [
    "def firstn(ls, n):\n",
    "    ls = iter(ls)\n",
    "    s = 0\n",
    "    for _ in range(n):\n",
    "        s = s + next(ls)\n",
    "        yield s\n",
    "        \n",
    "N = 2000000000\n",
    "iterator_input = (i**2 for i in range (N + 1))\n",
    "G = firstn(iterator_input, N + 1)\n",
    "\n",
    "for i in G:\n",
    "    print(i)"
   ]
  },
  {
   "cell_type": "markdown",
   "metadata": {},
   "source": [
    "# Compare the above with:"
   ]
  },
  {
   "cell_type": "code",
   "execution_count": null,
   "metadata": {},
   "outputs": [],
   "source": [
    "def firstn(ls, n):\n",
    "    s = 0\n",
    "    for i in range(n):\n",
    "        s = s + ls[i]\n",
    "        yield s\n",
    "        \n",
    "N = 2000000000\n",
    "G = firstn([i**2 for i in range(N + 1)])\n",
    "\n",
    "for i in G:\n",
    "    print(i)"
   ]
  },
  {
   "cell_type": "markdown",
   "metadata": {},
   "source": [
    "## Abstract Methods\n",
    "\n",
    "- Abstract methods are the methods which does not contain any implemetation\n",
    "\n",
    "- But the child-class need to implement these methods. Otherwise error will be reported\n",
    "\n",
    "- The reason for using Abstract Methods are:\n",
    "\n",
    "    1. writing code modulars\n",
    "    2. do not repeat yourself"
   ]
  },
  {
   "cell_type": "code",
   "execution_count": 24,
   "metadata": {},
   "outputs": [
    {
     "name": "stdout",
     "output_type": "stream",
     "text": [
      "3\n",
      "6\n",
      "16\n",
      "4.0\n"
     ]
    }
   ],
   "source": [
    "from abc import ABC, abstractmethod\n",
    "\n",
    "\n",
    "class AbstractOperation(ABC):\n",
    "\n",
    "    def __init__(self, operand_a, operand_b):\n",
    "        self.operand_a = operand_a\n",
    "        self.operand_b = operand_b\n",
    "        super(AbstractOperation, self).__init__()\n",
    "\n",
    "    @abstractmethod\n",
    "    def execute(self):\n",
    "        pass\n",
    "\n",
    "\n",
    "class AddOperation(AbstractOperation):\n",
    "    def execute(self):\n",
    "        return self.operand_a + self.operand_b\n",
    "\n",
    "\n",
    "class SubtractOperation(AbstractOperation):\n",
    "    def execute(self):\n",
    "        return self.operand_a - self.operand_b\n",
    "\n",
    "\n",
    "class MultiplyOperation(AbstractOperation):\n",
    "    def execute(self):\n",
    "        return self.operand_a * self.operand_b\n",
    "\n",
    "\n",
    "class DivideOperation(AbstractOperation):\n",
    "    def execute(self):\n",
    "        return self.operand_a / self.operand_b\n",
    "\n",
    "\n",
    "operation = AddOperation(1, 2)\n",
    "print(operation.execute())\n",
    "operation = SubtractOperation(8, 2)\n",
    "print(operation.execute())\n",
    "operation = MultiplyOperation(8, 2)\n",
    "print(operation.execute())\n",
    "operation = DivideOperation(8, 2)\n",
    "print(operation.execute())"
   ]
  },
  {
   "cell_type": "markdown",
   "metadata": {},
   "source": [
    "## Classmethod, Staticmethod"
   ]
  },
  {
   "cell_type": "code",
   "execution_count": 25,
   "metadata": {},
   "outputs": [
    {
     "name": "stdout",
     "output_type": "stream",
     "text": [
      "Adam's age is: 19\n",
      "John's age is: 35\n"
     ]
    }
   ],
   "source": [
    "from datetime import date\n",
    "\n",
    "# random Person\n",
    "class Person:\n",
    "    def __init__(self, name, age):\n",
    "        self.name = name\n",
    "        self.age = age\n",
    "\n",
    "    @classmethod\n",
    "    def fromBirthYear(cls, name, birthYear):\n",
    "        return cls(name, date.today().year - birthYear)\n",
    "\n",
    "    def display(self):\n",
    "        print(self.name + \"'s age is: \" + str(self.age))\n",
    "\n",
    "person = Person('Adam', 19)\n",
    "person.display()\n",
    "\n",
    "person1 = Person.fromBirthYear('John',  1985)\n",
    "person1.display()"
   ]
  },
  {
   "cell_type": "code",
   "execution_count": 26,
   "metadata": {},
   "outputs": [
    {
     "name": "stdout",
     "output_type": "stream",
     "text": [
      "True\n",
      "False\n"
     ]
    }
   ],
   "source": [
    "from datetime import date\n",
    "\n",
    "\n",
    "# random Person\n",
    "class Person:\n",
    "    def __init__(self, name, age):\n",
    "        self.name = name\n",
    "        self.age = age\n",
    "\n",
    "    @staticmethod\n",
    "    def from_fathers_age(name, father_age, father_person_age_diff):\n",
    "        return Person(name, date.today().year - father_age + father_person_age_diff)\n",
    "\n",
    "    @classmethod\n",
    "    def from_birth_year(cls, name, birth_year):\n",
    "        return cls(name, date.today().year - birth_year)\n",
    "\n",
    "    def display(self):\n",
    "        print(self.name + \"'s age is: \" + str(self.age))\n",
    "\n",
    "\n",
    "class Man(Person):\n",
    "    sex = 'Male'\n",
    "\n",
    "\n",
    "man = Man.from_birth_year('John', 1985)\n",
    "print(isinstance(man, Man))\n",
    "\n",
    "man1 = Man.from_fathers_age('John', 1965, 20)\n",
    "print(isinstance(man1, Man))"
   ]
  },
  {
   "cell_type": "code",
   "execution_count": 30,
   "metadata": {},
   "outputs": [
    {
     "name": "stdout",
     "output_type": "stream",
     "text": [
      "{'day': 11, 'month': 9, 'year': 2012}\n"
     ]
    }
   ],
   "source": [
    "class Date(object):\n",
    "\n",
    "    def __init__(self, day=0, month=0, year=0):\n",
    "        self.day = day\n",
    "        self.month = month\n",
    "        self.year = year\n",
    "        \n",
    "    @classmethod\n",
    "    def from_string(cls, date_as_string):\n",
    "        day, month, year = map(int, date_as_string.split('-'))\n",
    "        date1 = cls(day, month, year)\n",
    "        return date1\n",
    "\n",
    "date2 = Date.from_string('11-09-2012')\n",
    "print(date2.__dict__)"
   ]
  },
  {
   "cell_type": "markdown",
   "metadata": {},
   "source": [
    "## Class Variable, object variable"
   ]
  },
  {
   "cell_type": "code",
   "execution_count": 27,
   "metadata": {},
   "outputs": [],
   "source": [
    "# empCount is a class variable\n",
    "class Employee:\n",
    "    'Common base class for all employees'\n",
    "    empCount = 0\n",
    "\n",
    "    def __init__(self, name, salary):\n",
    "        self.name = name\n",
    "        self.salary = salary\n",
    "        Employee.empCount += 1\n",
    "\n",
    "    def displayCount(self):\n",
    "        print(\"Total Employee %d\" % Employee.empCount)\n",
    "\n",
    "    def displayEmployee(self):\n",
    "        print(\"Name : \", self.name, \", Salary: \", self.salary)"
   ]
  },
  {
   "cell_type": "code",
   "execution_count": 28,
   "metadata": {},
   "outputs": [
    {
     "name": "stdout",
     "output_type": "stream",
     "text": [
      "Total Employee 2\n"
     ]
    }
   ],
   "source": [
    "# \"This would create first object of Employee class\"\n",
    "emp1 = Employee(\"Zara\", 2000)\n",
    "# \"This would create second object of Employee class\"\n",
    "emp2 = Employee(\"Manni\", 5000)\n",
    "print(\"Total Employee %d\" % Employee.empCount)"
   ]
  },
  {
   "cell_type": "code",
   "execution_count": null,
   "metadata": {},
   "outputs": [],
   "source": [
    "class Employee:\n",
    "    'Common base class for all employees'\n",
    "    count = 0\n",
    "\n",
    "    def __init__(self, name, salary):\n",
    "        self.name = name\n",
    "        self.salary = salary\n",
    "        Employee.incrementCount()\n",
    "\n",
    "    def displayCount(self):\n",
    "        print(\"Total Employee %d\" % self.empCount)\n",
    "\n",
    "    def displayEmployee(self):\n",
    "        print(\"Name : \", self.name, \", Salary: \", self.salary)\n",
    "\n",
    "\n",
    "# \"This would create first object of Employee class\"\n",
    "emp1 = Employee(\"Zara\", 2000)\n",
    "# \"This would create second object of Employee class\"\n",
    "emp2 = Employee(\"Manni\", 5000)\n",
    "\n",
    "print(Employee.empCount)\n",
    "print(emp1.empCount)"
   ]
  },
  {
   "cell_type": "markdown",
   "metadata": {},
   "source": [
    "## Method, Classmethod, Staticmethod\n",
    "\n",
    "Assume the class is written for addition\n",
    "\n",
    "- Method : it uses the instance variable (self.x) for addition, which is set by __init__ function\n",
    "\n",
    "- classmethod : it uses class variable for addition\n",
    "\n",
    "- staticmethod : it uses the value of x which is defined in main program (i.e. outside the class)"
   ]
  },
  {
   "cell_type": "code",
   "execution_count": 29,
   "metadata": {},
   "outputs": [
    {
     "name": "stdout",
     "output_type": "stream",
     "text": [
      "method: 14\n",
      "classmethod: 19\n",
      "staticmethod: 30\n"
     ]
    }
   ],
   "source": [
    "#Resource:  https://media.readthedocs.org/pdf/pythonguide/latest/pythonguide.pdf\n",
    "\n",
    "# below x will be used by static method\n",
    "# if we do not define it, the staticmethod will generate error.\n",
    "\n",
    "x = 20\n",
    "\n",
    "\n",
    "class Add(object):\n",
    "    x = 9  # class variable\n",
    "\n",
    "    def __init__(self, x):\n",
    "        self.x = x  # instance variable\n",
    "\n",
    "    def addMethod(self, y):\n",
    "        print(\"method:\", self.x + y)\n",
    "\n",
    "    @classmethod\n",
    "    # as convention, cls must be used for classmethod, instead of self\n",
    "    def addClass(cls, y):\n",
    "        print(\"classmethod:\", cls.x + y)\n",
    "\n",
    "    @staticmethod\n",
    "    def addStatic(y):\n",
    "        print(\"staticmethod:\", x + y)\n",
    "\n",
    "\n",
    "def main():  # method\n",
    "    m = Add(x=4)  # or m=Add(4)\n",
    "    # for method, above x = 4, will be used for addition\n",
    "    m.addMethod(10) # method : 14\n",
    "    # classmethod\n",
    "    c = Add(4)\n",
    "    # for class method, class variable x = 9, will be used for addition\n",
    "    c.addClass(10) # classmethod : 19\n",
    "    # for static method, x=20 (at the top of file), will be used for addition\n",
    "    s = Add(4)\n",
    "    s.addStatic(10)  # staticmethod : 30\n",
    "    \n",
    "main()"
   ]
  },
  {
   "cell_type": "markdown",
   "metadata": {},
   "source": [
    "## Decorator\n",
    "\n",
    "- Decorator is a function that creates a wrapper around another function\n",
    "\n",
    "- This wrapper adds some additional functionality to existing code"
   ]
  },
  {
   "cell_type": "code",
   "execution_count": 32,
   "metadata": {},
   "outputs": [],
   "source": [
    "def func(n):\n",
    "    sign = 1\n",
    "    ls = []\n",
    "    \n",
    "    for _ in range(n):\n",
    "        if sign == 1:\n",
    "            sign = -1\n",
    "        elif sign == -1:\n",
    "            sign = 1\n",
    "        ls.append(sign)\n",
    "        \n",
    "    return ls"
   ]
  },
  {
   "cell_type": "code",
   "execution_count": 33,
   "metadata": {},
   "outputs": [
    {
     "name": "stdout",
     "output_type": "stream",
     "text": [
      "[-1, 1, -1, 1, -1, 1, -1, 1, -1, 1]\n"
     ]
    }
   ],
   "source": [
    "print(func(10))"
   ]
  },
  {
   "cell_type": "code",
   "execution_count": 31,
   "metadata": {},
   "outputs": [
    {
     "name": "stdout",
     "output_type": "stream",
     "text": [
      "2\n",
      "adding One\n",
      "3\n"
     ]
    }
   ],
   "source": [
    "def addOne(myFunc):\n",
    "    def addOneInside(x):\n",
    "        print(\"adding One\")\n",
    "        return myFunc(x) + 1\n",
    "    return addOneInside\n",
    "\n",
    "def subThree(x):\n",
    "    return x - 3\n",
    "\n",
    "result = addOne(subThree)\n",
    "print(subThree(5))\n",
    "print(result(5))"
   ]
  },
  {
   "cell_type": "code",
   "execution_count": 34,
   "metadata": {},
   "outputs": [
    {
     "name": "stdout",
     "output_type": "stream",
     "text": [
      "adding One\n",
      "3\n"
     ]
    }
   ],
   "source": [
    "@addOne\n",
    "def subThree(x):\n",
    "    return x - 3\n",
    "\n",
    "print(subThree(5))"
   ]
  },
  {
   "cell_type": "code",
   "execution_count": 35,
   "metadata": {},
   "outputs": [
    {
     "name": "stdout",
     "output_type": "stream",
     "text": [
      "102334155\n"
     ]
    }
   ],
   "source": [
    "def memoize(f):\n",
    "    memo = {}\n",
    "    def helper(x):\n",
    "        if x not in memo:            \n",
    "            memo[x] = f(x)\n",
    "        return memo[x]\n",
    "    return helper\n",
    "    \n",
    "\n",
    "def fib(n):\n",
    "    if n == 0:\n",
    "        return 0\n",
    "    elif n == 1:\n",
    "        return 1\n",
    "    else:\n",
    "        return fib(n-1) + fib(n-2)\n",
    "\n",
    "result = memoize(fib)\n",
    "\n",
    "print(result(40))"
   ]
  },
  {
   "cell_type": "markdown",
   "metadata": {},
   "source": [
    "## Activity: \n",
    "\n",
    "For given starting point (a0) and given iteration (m), write a function that calculates f(a(0), f(f(a0)), ...)\n",
    "\n",
    "    - Step 1: Write down a functiton in python that gets a0 and m then returns f(f(f(...f(a0)))) which applies function f, m times to previous values"
   ]
  },
  {
   "cell_type": "code",
   "execution_count": 2,
   "metadata": {},
   "outputs": [
    {
     "name": "stdout",
     "output_type": "stream",
     "text": [
      "[1.0, 1.5, 1.4167, 1.4142]\n"
     ]
    }
   ],
   "source": [
    "def next_(n, x):\n",
    "    return (x+n/x)/2\n",
    "\n",
    "n = 2\n",
    "f = lambda x: (x+n/x)/2\n",
    "a0 = 1.0\n",
    "# this implementation is not good because it is hard-coded\n",
    "print([round(x,4) for x in (a0, f(a0), f(f(a0)), f(f(f(a0\n",
    "                                                      ))))])"
   ]
  },
  {
   "cell_type": "code",
   "execution_count": 7,
   "metadata": {},
   "outputs": [
    {
     "name": "stdout",
     "output_type": "stream",
     "text": [
      "1\n",
      "1.5\n",
      "1.4166666666666665\n",
      "1.4142156862745097\n",
      "1.4142135623746899\n"
     ]
    }
   ],
   "source": [
    "m = 4 \n",
    "def repeat(f, a):\n",
    "    # global m\n",
    "    # need global m if want to change m in the function (m = m)\n",
    "    for _ in range(m + 1):\n",
    "        yield a\n",
    "        a = f(a)    \n",
    "    \n",
    "for i in repeat(f, 1):\n",
    "    print(i)"
   ]
  },
  {
   "cell_type": "code",
   "execution_count": 9,
   "metadata": {},
   "outputs": [
    {
     "name": "stdout",
     "output_type": "stream",
     "text": [
      "[1, 1.5, 1.4166666666666665, 1.4142156862745097, 1.4142135623746899]\n"
     ]
    }
   ],
   "source": [
    "def repeat(a, m):\n",
    "    ls = []\n",
    "    for _ in range(m + 1):\n",
    "        ls.append(a)\n",
    "        a = f(a)   \n",
    "    return ls\n",
    "    \n",
    "print(repeat(1, 4))"
   ]
  },
  {
   "cell_type": "markdown",
   "metadata": {},
   "source": [
    "## Nested Functions\n",
    "\n",
    "- A nested function is a function defined inside another function. It's very important to note that the nested functions can access the variables of the enclosing scope\n"
   ]
  },
  {
   "cell_type": "code",
   "execution_count": 11,
   "metadata": {},
   "outputs": [
    {
     "name": "stdout",
     "output_type": "stream",
     "text": [
      "[28, 93]\n",
      "[33, 98]\n"
     ]
    }
   ],
   "source": [
    "def hof_add(increment):\n",
    "    # create a function that loops and adds the increments\n",
    "    def add_increment(nums):\n",
    "        new_nums = []\n",
    "        for n in nums:\n",
    "            new_nums.append(n + increment)\n",
    "        return new_nums\n",
    "    # we return the function as we do any other value\n",
    "    return add_increment\n",
    "\n",
    "add5 = hof_add(5)\n",
    "print(add5([23, 88]))\n",
    "add10 = hof_add(10)\n",
    "print(add10([23, 88]))"
   ]
  },
  {
   "cell_type": "markdown",
   "metadata": {},
   "source": [
    "## Another Example of Nested Function"
   ]
  },
  {
   "cell_type": "code",
   "execution_count": 12,
   "metadata": {},
   "outputs": [
    {
     "name": "stdout",
     "output_type": "stream",
     "text": [
      "<function sum_f.<locals>.do_it at 0x7fadea430d30>\n"
     ]
    }
   ],
   "source": [
    "def sum_f(x, y):\n",
    "    def do_it(n):\n",
    "        return x + y + n\n",
    "    return do_it\n",
    "\n",
    "a = sum_f(1,3)\n",
    "print(a)"
   ]
  },
  {
   "cell_type": "markdown",
   "metadata": {},
   "source": [
    "## Global Variable"
   ]
  },
  {
   "cell_type": "code",
   "execution_count": 18,
   "metadata": {},
   "outputs": [
    {
     "name": "stdout",
     "output_type": "stream",
     "text": [
      "27\n"
     ]
    }
   ],
   "source": [
    "x = 10\n",
    "\n",
    "def mathEx(a, b):\n",
    "    '''calculate (a+b)*(x-1)'''\n",
    "    global x\n",
    "    x = x-1\n",
    "    c =(a+b)*x\n",
    "    return c\n",
    "\n",
    "print(mathEx(1,2))"
   ]
  },
  {
   "cell_type": "markdown",
   "metadata": {},
   "source": [
    "## Lambda Functions\n",
    "- a simple 1-line function\n",
    "-do not use def or return keywords, they are implicit"
   ]
  },
  {
   "cell_type": "code",
   "execution_count": 21,
   "metadata": {},
   "outputs": [
    {
     "name": "stdout",
     "output_type": "stream",
     "text": [
      "6\n"
     ]
    }
   ],
   "source": [
    "# double x\n",
    "def double(x):\n",
    "    return x*2\n",
    "print(double(3))"
   ]
  },
  {
   "cell_type": "code",
   "execution_count": 27,
   "metadata": {},
   "outputs": [
    {
     "name": "stdout",
     "output_type": "stream",
     "text": [
      "6\n"
     ]
    }
   ],
   "source": [
    "dub = lambda x: 2*x\n",
    "print(dub(3))"
   ]
  },
  {
   "cell_type": "code",
   "execution_count": 20,
   "metadata": {},
   "outputs": [
    {
     "name": "stdout",
     "output_type": "stream",
     "text": [
      "4\n"
     ]
    }
   ],
   "source": [
    "# add x and y \n",
    "def add(x, y):\n",
    "    return x + y\n",
    "print(add(2, 2))"
   ]
  },
  {
   "cell_type": "code",
   "execution_count": 28,
   "metadata": {},
   "outputs": [
    {
     "name": "stdout",
     "output_type": "stream",
     "text": [
      "4\n"
     ]
    }
   ],
   "source": [
    "adding = lambda x,y: x + y\n",
    "print(adding(2,2))"
   ]
  },
  {
   "cell_type": "markdown",
   "metadata": {},
   "source": [
    "## Map Function \n",
    "- apply some function to each element of a sequence\n",
    "- return the modified list"
   ]
  },
  {
   "cell_type": "code",
   "execution_count": 23,
   "metadata": {},
   "outputs": [
    {
     "name": "stdout",
     "output_type": "stream",
     "text": [
      "[16, 9, 4, 1]\n"
     ]
    }
   ],
   "source": [
    "# prints[16, 9, 4, 1]\n",
    "\n",
    "def square(lst1):\n",
    "    lst2 = []\n",
    "    for num in lst1:\n",
    "        lst2.append(num**2)\n",
    "    return lst2\n",
    "\n",
    "print(square([4,3,2,1]))"
   ]
  },
  {
   "cell_type": "code",
   "execution_count": 29,
   "metadata": {},
   "outputs": [
    {
     "name": "stdout",
     "output_type": "stream",
     "text": [
      "[16, 9, 4, 1]\n"
     ]
    }
   ],
   "source": [
    "n = [4,3,2,1]\n",
    "# print(list(map(lambda x:x**2, n)))\n",
    "print([x**2 for x in n])  # list comprehension "
   ]
  },
  {
   "cell_type": "code",
   "execution_count": 38,
   "metadata": {},
   "outputs": [
    {
     "data": {
      "text/plain": [
       "[3, 4]"
      ]
     },
     "execution_count": 38,
     "metadata": {},
     "output_type": "execute_result"
    }
   ],
   "source": [
    "a = [2, 4]\n",
    "b = [3, 1]\n",
    "\n",
    "list(map(lambda pair: max(pair), zip(a, b)))"
   ]
  },
  {
   "cell_type": "code",
   "execution_count": 40,
   "metadata": {},
   "outputs": [
    {
     "name": "stdout",
     "output_type": "stream",
     "text": [
      "246.1875\n"
     ]
    }
   ],
   "source": [
    "# without map function\n",
    "\n",
    "def mse(y_true, y_pred):\n",
    "    N = len(y_true)\n",
    "    s = sum([(i - j)**2 for i, j in zip(y_true, y_pred)])\n",
    "    return s/N\n",
    "\n",
    "\n",
    "print(mse([-52, -54, -31, -16], [-38.25, -38.25, -38.25, -38.25]))"
   ]
  },
  {
   "cell_type": "code",
   "execution_count": 47,
   "metadata": {},
   "outputs": [
    {
     "data": {
      "text/plain": [
       "[189.0625, 248.0625, 52.5625, 495.0625]"
      ]
     },
     "execution_count": 47,
     "metadata": {},
     "output_type": "execute_result"
    }
   ],
   "source": [
    "# using map function \n",
    "\n",
    "y_true = [-52, -54, -31, -16]\n",
    "y_pred = [-38.25, -38.25, -38.25, -38.25]\n",
    "\n",
    "list(map(lambda pair: (pair[0]-pair[1])**2, zip(y_pred, y_true)))"
   ]
  },
  {
   "cell_type": "code",
   "execution_count": 49,
   "metadata": {},
   "outputs": [
    {
     "data": {
      "text/plain": [
       "246.1875"
      ]
     },
     "execution_count": 49,
     "metadata": {},
     "output_type": "execute_result"
    }
   ],
   "source": [
    "mse = sum(map(lambda pair: (pair[0] - pair[1])**2, zip(y_true, y_pred)))/len(y_true)\n",
    "mse"
   ]
  },
  {
   "cell_type": "code",
   "execution_count": 50,
   "metadata": {},
   "outputs": [],
   "source": [
    "words = ['Deer', 'Bear', 'River', 'Car', 'Car', 'River', 'Deer', 'Car', 'Bear']"
   ]
  },
  {
   "cell_type": "code",
   "execution_count": 51,
   "metadata": {},
   "outputs": [
    {
     "name": "stdout",
     "output_type": "stream",
     "text": [
      "{'Deer': 1}\n",
      "{'Bear': 1}\n",
      "{'River': 1}\n",
      "{'Car': 1}\n",
      "{'Car': 1}\n",
      "{'River': 1}\n",
      "{'Deer': 1}\n",
      "{'Car': 1}\n",
      "{'Bear': 1}\n"
     ]
    }
   ],
   "source": [
    "mapping = map(lambda x: {x:1}, words)\n",
    "\n",
    "for i in mapping:\n",
    "    print(i)"
   ]
  },
  {
   "cell_type": "markdown",
   "metadata": {},
   "source": [
    "### Create Histogram dictionary for the given words list. \n",
    "- First create mapping functionality\n",
    "- Then use reduce to combine two dictionaries such that if the keys are the same, add the values. If they are different, add two dictionaries. \n",
    "\n",
    "\n",
    "- {'Deer' : 1} + {'Bear' : 1} --> {'Deer': 1, 'Bear': 1}\n",
    "- {'Deer' : 1} + {'Deer' : 1} --> {'Deer' : 2}\n",
    "- {'Deer': 1, 'Bear': 1} + {'Bear' : 1} --> {'Deer': 1, 'Bear': 2}\n",
    "\n",
    "\n",
    "- Note: Use Counter"
   ]
  },
  {
   "cell_type": "code",
   "execution_count": 56,
   "metadata": {},
   "outputs": [
    {
     "data": {
      "text/plain": [
       "{'Deer': 2, 'Bear': 2, 'River': 2, 'Car': 3}"
      ]
     },
     "execution_count": 56,
     "metadata": {},
     "output_type": "execute_result"
    }
   ],
   "source": [
    "from collections import Counter\n",
    "\n",
    "words = ['Deer', 'Bear', 'River', 'Car', 'Car', 'River', 'Deer', 'Car', 'Bear']\n",
    "\n",
    "mapping = map(lambda x : {x: 1}, words)   # creates dictionary of the words in the words list\n",
    "\n",
    "def hist(x, y):\n",
    "    return dict(Counter(x) + Counter(y))\n",
    "\n",
    "reduce(hist, mapping)"
   ]
  },
  {
   "cell_type": "markdown",
   "metadata": {},
   "source": [
    "## Filter Function \n",
    "- filter items out of a sequence\n",
    "- return filtered list\n"
   ]
  },
  {
   "cell_type": "code",
   "execution_count": 31,
   "metadata": {},
   "outputs": [
    {
     "name": "stdout",
     "output_type": "stream",
     "text": [
      "[4, 3]\n"
     ]
    }
   ],
   "source": [
    "# prints[4,3]\n",
    "\n",
    "def over_two(lst1):\n",
    "    lst2 = [x for x in lst1 if x>2]\n",
    "    return lst2\n",
    "\n",
    "print(over_two([4,3,2,1]))"
   ]
  },
  {
   "cell_type": "code",
   "execution_count": 32,
   "metadata": {},
   "outputs": [
    {
     "name": "stdout",
     "output_type": "stream",
     "text": [
      "[4, 3]\n"
     ]
    }
   ],
   "source": [
    "n = [4,3,2,1]\n",
    "print(list(filter(lambda x: x>2, n)))"
   ]
  },
  {
   "cell_type": "markdown",
   "metadata": {},
   "source": [
    "## Reduce Function\n",
    "- applies same operation to items of a sequnce\n",
    "- uses result of operation as first param of next operation\n",
    "- returns an item not a list"
   ]
  },
  {
   "cell_type": "code",
   "execution_count": 36,
   "metadata": {},
   "outputs": [
    {
     "name": "stdout",
     "output_type": "stream",
     "text": [
      "24\n"
     ]
    }
   ],
   "source": [
    "# prints 24\n",
    "\n",
    "def mult(lst1):\n",
    "    prod = lst1[0]\n",
    "    for i in range(1, len(lst1)):\n",
    "        prod *= lst1[i]\n",
    "    return prod\n",
    "\n",
    "print(mult([4,3,2,1]))"
   ]
  },
  {
   "cell_type": "code",
   "execution_count": 35,
   "metadata": {},
   "outputs": [
    {
     "name": "stdout",
     "output_type": "stream",
     "text": [
      "24\n"
     ]
    }
   ],
   "source": [
    "from functools import reduce\n",
    "\n",
    "n = [4,3,2,1]\n",
    "\n",
    "print(reduce(lambda x,y: x*y, n)) # 4*3 = 12, 12*2 = 24, 24*1 = 24"
   ]
  },
  {
   "cell_type": "code",
   "execution_count": 37,
   "metadata": {},
   "outputs": [
    {
     "name": "stdout",
     "output_type": "stream",
     "text": [
      "-6\n",
      "-6\n"
     ]
    }
   ],
   "source": [
    "ls = [5, 6, 3, 2]\n",
    "\n",
    "a = 5 - 6\n",
    "b = a - 3\n",
    "c = b - 2\n",
    "print(c)\n",
    "\n",
    "print(reduce(lambda x, y: x-y, ls))"
   ]
  },
  {
   "cell_type": "code",
   "execution_count": 3,
   "metadata": {},
   "outputs": [
    {
     "name": "stdout",
     "output_type": "stream",
     "text": [
      "{3}\n"
     ]
    }
   ],
   "source": [
    "from functools import reduce\n",
    "\n",
    "print(reduce(lambda x, y: x & y, [{1, 2, 3}, {2, 3, 4}, {3, 4, 5}]))"
   ]
  },
  {
   "cell_type": "markdown",
   "metadata": {},
   "source": [
    "## *arg\n",
    "\n",
    "- write a function when we pass n lists, it returns their intersection (common element(s) among them.) But we do not know n beforehand\n",
    "- use *arg if the number of input arguments is unknown"
   ]
  },
  {
   "cell_type": "code",
   "execution_count": 1,
   "metadata": {},
   "outputs": [
    {
     "name": "stdout",
     "output_type": "stream",
     "text": [
      "['a']\n"
     ]
    }
   ],
   "source": [
    "def intersection(*arg):\n",
    "    result = set(arg[0])\n",
    "    for i in range(1,len(arg)):\n",
    "        result = result & set(arg[i]) \n",
    "    return list(result)\n",
    "  \n",
    "print(intersection(['a', 'b'], ['a', 'c'], ['a', 'b']))"
   ]
  },
  {
   "cell_type": "code",
   "execution_count": 2,
   "metadata": {},
   "outputs": [
    {
     "name": "stdout",
     "output_type": "stream",
     "text": [
      "['a']\n"
     ]
    }
   ],
   "source": [
    "print(intersection(['a', 'b'], ['a', 'c']))"
   ]
  },
  {
   "cell_type": "markdown",
   "metadata": {},
   "source": [
    "### Better Way:\n",
    "Now, transform the intersection function into map/reduce implementation\n",
    "- more efficient"
   ]
  },
  {
   "cell_type": "code",
   "execution_count": 7,
   "metadata": {},
   "outputs": [
    {
     "name": "stdout",
     "output_type": "stream",
     "text": [
      "{'a'}\n"
     ]
    }
   ],
   "source": [
    "from functools import reduce\n",
    "\n",
    "def reduce_intersection(*args):\n",
    "    result = map(set, args)     # using map\n",
    "    x = reduce(lambda x, y: x & y, result)      # using reduce\n",
    "    print(x)\n",
    "  \n",
    "reduce_intersection(['a', 'b'], ['a', 'c'], ['a', 'b'])"
   ]
  },
  {
   "cell_type": "code",
   "execution_count": null,
   "metadata": {},
   "outputs": [],
   "source": []
  },
  {
   "cell_type": "code",
   "execution_count": null,
   "metadata": {},
   "outputs": [],
   "source": []
  },
  {
   "cell_type": "code",
   "execution_count": null,
   "metadata": {},
   "outputs": [],
   "source": []
  },
  {
   "cell_type": "markdown",
   "metadata": {},
   "source": [
    "## For the given list of strings, return common letters for the strings that start with the letter 'A'\n",
    "\n",
    "- implement this in filter + reduce way\n",
    "- filter(func, list)\n",
    "- reduce(lambda x, y: func(x,y), List)"
   ]
  },
  {
   "cell_type": "code",
   "execution_count": 19,
   "metadata": {},
   "outputs": [
    {
     "data": {
      "text/plain": [
       "{'A', 'e', 'l', 'p'}"
      ]
     },
     "execution_count": 19,
     "metadata": {},
     "output_type": "execute_result"
    }
   ],
   "source": [
    "fruit = ['Apple', 'Banana', 'Pear', 'Apricot', 'Orange']\n",
    "# common letters for the strings that start with the letter 'A' are 'A' and 'p'\n",
    "\n",
    "## Hint:\n",
    "set('Apple')"
   ]
  },
  {
   "cell_type": "code",
   "execution_count": 2,
   "metadata": {},
   "outputs": [
    {
     "data": {
      "text/plain": [
       "{'A', 'c', 'i', 'o', 'p', 'r', 't'}"
      ]
     },
     "execution_count": 2,
     "metadata": {},
     "output_type": "execute_result"
    }
   ],
   "source": [
    "set('Apricot')"
   ]
  },
  {
   "cell_type": "code",
   "execution_count": 3,
   "metadata": {},
   "outputs": [
    {
     "data": {
      "text/plain": [
       "{'A', 'p'}"
      ]
     },
     "execution_count": 3,
     "metadata": {},
     "output_type": "execute_result"
    }
   ],
   "source": [
    "set('Apple').intersection(set('Apricot'))"
   ]
  },
  {
   "cell_type": "code",
   "execution_count": 6,
   "metadata": {},
   "outputs": [
    {
     "name": "stdout",
     "output_type": "stream",
     "text": [
      "['Apple', 'Apricot']\n"
     ]
    }
   ],
   "source": [
    "filter_letters = list(filter(lambda x: x[0] == 'A', fruit))\n",
    "\n",
    "print(filter_letters)"
   ]
  },
  {
   "cell_type": "code",
   "execution_count": 17,
   "metadata": {},
   "outputs": [
    {
     "name": "stdout",
     "output_type": "stream",
     "text": [
      "Apricot\n"
     ]
    }
   ],
   "source": [
    "from functools import reduce\n",
    "# reduce( lambda a,b: a & b, filter(lambda x: x[0] == ‘A’, fruit)\n",
    "letters = reduce( lambda  a,b: a if a > b else b, filter_letters)\n",
    "print(letters)"
   ]
  },
  {
   "cell_type": "code",
   "execution_count": 21,
   "metadata": {},
   "outputs": [
    {
     "ename": "TypeError",
     "evalue": "unsupported operand type(s) for &: 'str' and 'str'",
     "output_type": "error",
     "traceback": [
      "\u001b[0;31m---------------------------------------------------------------------------\u001b[0m",
      "\u001b[0;31mTypeError\u001b[0m                                 Traceback (most recent call last)",
      "\u001b[0;32m<ipython-input-21-3ab3f438d8d8>\u001b[0m in \u001b[0;36m<module>\u001b[0;34m\u001b[0m\n\u001b[0;32m----> 1\u001b[0;31m \u001b[0mreduce\u001b[0m\u001b[0;34m(\u001b[0m\u001b[0;32mlambda\u001b[0m \u001b[0ma\u001b[0m\u001b[0;34m,\u001b[0m \u001b[0mb\u001b[0m\u001b[0;34m:\u001b[0m \u001b[0ma\u001b[0m \u001b[0;34m&\u001b[0m \u001b[0mb\u001b[0m\u001b[0;34m,\u001b[0m \u001b[0mfilter_letters\u001b[0m\u001b[0;34m)\u001b[0m\u001b[0;34m\u001b[0m\u001b[0;34m\u001b[0m\u001b[0m\n\u001b[0m",
      "\u001b[0;32m<ipython-input-21-3ab3f438d8d8>\u001b[0m in \u001b[0;36m<lambda>\u001b[0;34m(a, b)\u001b[0m\n\u001b[0;32m----> 1\u001b[0;31m \u001b[0mreduce\u001b[0m\u001b[0;34m(\u001b[0m\u001b[0;32mlambda\u001b[0m \u001b[0ma\u001b[0m\u001b[0;34m,\u001b[0m \u001b[0mb\u001b[0m\u001b[0;34m:\u001b[0m \u001b[0ma\u001b[0m \u001b[0;34m&\u001b[0m \u001b[0mb\u001b[0m\u001b[0;34m,\u001b[0m \u001b[0mfilter_letters\u001b[0m\u001b[0;34m)\u001b[0m\u001b[0;34m\u001b[0m\u001b[0;34m\u001b[0m\u001b[0m\n\u001b[0m",
      "\u001b[0;31mTypeError\u001b[0m: unsupported operand type(s) for &: 'str' and 'str'"
     ]
    }
   ],
   "source": [
    "reduce(lambda a, b: a & b, filter_letters)"
   ]
  },
  {
   "cell_type": "code",
   "execution_count": 22,
   "metadata": {},
   "outputs": [
    {
     "ename": "NameError",
     "evalue": "name 'func' is not defined",
     "output_type": "error",
     "traceback": [
      "\u001b[0;31m---------------------------------------------------------------------------\u001b[0m",
      "\u001b[0;31mNameError\u001b[0m                                 Traceback (most recent call last)",
      "\u001b[0;32m<ipython-input-22-d3686e056714>\u001b[0m in \u001b[0;36m<module>\u001b[0;34m\u001b[0m\n\u001b[0;32m----> 1\u001b[0;31m \u001b[0mreduce\u001b[0m\u001b[0;34m(\u001b[0m\u001b[0;32mlambda\u001b[0m \u001b[0mx\u001b[0m\u001b[0;34m,\u001b[0m \u001b[0my\u001b[0m\u001b[0;34m:\u001b[0m \u001b[0mfunc\u001b[0m\u001b[0;34m(\u001b[0m\u001b[0mx\u001b[0m\u001b[0;34m,\u001b[0m\u001b[0my\u001b[0m\u001b[0;34m)\u001b[0m\u001b[0;34m,\u001b[0m \u001b[0mfilter_letters\u001b[0m\u001b[0;34m)\u001b[0m\u001b[0;34m\u001b[0m\u001b[0;34m\u001b[0m\u001b[0m\n\u001b[0m",
      "\u001b[0;32m<ipython-input-22-d3686e056714>\u001b[0m in \u001b[0;36m<lambda>\u001b[0;34m(x, y)\u001b[0m\n\u001b[0;32m----> 1\u001b[0;31m \u001b[0mreduce\u001b[0m\u001b[0;34m(\u001b[0m\u001b[0;32mlambda\u001b[0m \u001b[0mx\u001b[0m\u001b[0;34m,\u001b[0m \u001b[0my\u001b[0m\u001b[0;34m:\u001b[0m \u001b[0mfunc\u001b[0m\u001b[0;34m(\u001b[0m\u001b[0mx\u001b[0m\u001b[0;34m,\u001b[0m\u001b[0my\u001b[0m\u001b[0;34m)\u001b[0m\u001b[0;34m,\u001b[0m \u001b[0mfilter_letters\u001b[0m\u001b[0;34m)\u001b[0m\u001b[0;34m\u001b[0m\u001b[0;34m\u001b[0m\u001b[0m\n\u001b[0m",
      "\u001b[0;31mNameError\u001b[0m: name 'func' is not defined"
     ]
    }
   ],
   "source": [
    "reduce(lambda x, y: func(x,y), filter_letters)"
   ]
  },
  {
   "cell_type": "markdown",
   "metadata": {},
   "source": [
    "### Using Reduce"
   ]
  },
  {
   "cell_type": "code",
   "execution_count": 25,
   "metadata": {},
   "outputs": [
    {
     "data": {
      "text/plain": [
       "13"
      ]
     },
     "execution_count": 25,
     "metadata": {},
     "output_type": "execute_result"
    }
   ],
   "source": [
    "reduce(lambda x, y: x if x > y else y, [1, 5, 2, 10, 13, 2])"
   ]
  },
  {
   "cell_type": "code",
   "execution_count": 26,
   "metadata": {},
   "outputs": [
    {
     "data": {
      "text/plain": [
       "3"
      ]
     },
     "execution_count": 26,
     "metadata": {},
     "output_type": "execute_result"
    }
   ],
   "source": [
    "reduce(lambda a, b: a if a > b else b, [1,2,3,2])"
   ]
  },
  {
   "cell_type": "code",
   "execution_count": null,
   "metadata": {},
   "outputs": [],
   "source": []
  }
 ],
 "metadata": {
  "kernelspec": {
   "display_name": "Python 3",
   "language": "python",
   "name": "python3"
  },
  "language_info": {
   "codemirror_mode": {
    "name": "ipython",
    "version": 3
   },
   "file_extension": ".py",
   "mimetype": "text/x-python",
   "name": "python",
   "nbconvert_exporter": "python",
   "pygments_lexer": "ipython3",
   "version": "3.8.3"
  }
 },
 "nbformat": 4,
 "nbformat_minor": 4
}
